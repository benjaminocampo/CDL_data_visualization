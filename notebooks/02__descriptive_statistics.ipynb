{
  "cells": [
    {
      "cell_type": "markdown",
      "metadata": {
        "id": "Q_jVkc2M6bO-"
      },
      "source": [
        "# Descriptive statistics"
      ]
    },
    {
      "cell_type": "code",
      "execution_count": 2,
      "metadata": {
        "id": "PVjcB6Dr6INS"
      },
      "outputs": [],
      "source": [
        "import matplotlib.pyplot as plt\n",
        "import numpy\n",
        "import pandas as pd\n",
        "import seaborn\n",
        "\n",
        "seaborn.set_context('talk')"
      ]
    },
    {
      "cell_type": "markdown",
      "metadata": {
        "id": "WNUWjdKr6e_1"
      },
      "source": [
        "## Reading the dataset"
      ]
    },
    {
      "cell_type": "code",
      "execution_count": 4,
      "metadata": {
        "id": "SlRWwRgE6VEo"
      },
      "outputs": [],
      "source": [
        "url = '../data/sysarmy_survey_2020_processed.csv'\n",
        "\n",
        "# Or we can use this other URL if we are in google colab and we want to read the dataset directly from a server.\n",
        "# url = 'https://www.famaf.unc.edu.ar/~nocampo043/sysarmy_survey_2020_processed.csv'\n",
        "\n",
        "df = pd.read_csv(url)"
      ]
    },
    {
      "cell_type": "markdown",
      "metadata": {
        "id": "ohT74Aty6-E1"
      },
      "source": [
        "# Descriptive statistics\n",
        "\n",
        "We've been organizing and visualizing data in different ways, but what insights can we get?\n",
        "\n",
        "Visualizations such as histograms or tally charts show the number of times each value is observed in a set of realizations of a random variable. This is called frequency analysis and is part of **descriptive statistics**.\n",
        "\n",
        "Visualizations limit us to estimates, but the raw data is too much to interpret together. For this, descriptive statistics also provides measures of central tendency and dispersion, which summarize properties of the realizations of the variable in a numerical value.\n",
        "\n",
        "Let's go back to the original problem with the r.v. `salary_monthly_NET`."
      ]
    },
    {
      "cell_type": "code",
      "execution_count": 5,
      "metadata": {
        "colab": {
          "base_uri": "https://localhost:8080/"
        },
        "id": "bWO8zqCc7B2y",
        "outputId": "c9ea6ca3-6c47-482c-d56e-6c8d2725a93e"
      },
      "outputs": [
        {
          "data": {
            "text/plain": [
              "count       5883.00\n",
              "mean       94907.95\n",
              "std        96862.26\n",
              "min            1.00\n",
              "25%        51480.00\n",
              "50%        78000.00\n",
              "75%       106000.00\n",
              "max      2080000.00\n",
              "Name: salary_monthly_NET, dtype: object"
            ]
          },
          "execution_count": 5,
          "metadata": {},
          "output_type": "execute_result"
        }
      ],
      "source": [
        "df[\"salary_monthly_NET\"].describe().apply(lambda s: '{0:.2f}'.format(s))"
      ]
    },
    {
      "cell_type": "markdown",
      "metadata": {
        "id": "yN4M-elh7mSG"
      },
      "source": [
        "## Measures of central tendency\n",
        "\n",
        "To obtain representative value realizations of a r.v., *measures of central tendency* are used.\n",
        "\n",
        "Given X a path and a set of realizations $x = \\{ x_1, x_2 ... \\}$ where $x_i = X(\\omega)$ for some $\\omega \\in \\Omega$, and $N = |x|$:\n",
        "\n",
        "* The **sample mean** (arithmetic) or average is calculated as:\n",
        "\n",
        "$$ \\bar{x} = \\frac{1}{N} \\sum_i^N x_i $$\n",
        "\n",
        "* The **median** is calculated:\n",
        "   1. Order the realizations such that $x_j \\leq x_{j+1}$\n",
        "   2. If the amount of data $N$ is odd, the median is the middle value: $median = x_{\\lfloor N / 2 \\rfloor +1}$\n",
        "   3. If the amount of data $N$ is even, the median is the average of the two middle values: $median = \\frac{1}{2} (x_{ N / 2 } + x_{ (N / 2) +1})$\n",
        "\n",
        "* The **mode** are the values with the greatest frequency, that is, the ones that are repeated the most."
      ]
    },
    {
      "cell_type": "code",
      "execution_count": 6,
      "metadata": {
        "colab": {
          "base_uri": "https://localhost:8080/"
        },
        "id": "f6PvbKH47pis",
        "outputId": "71117055-af9e-454e-eb82-a3beba400164"
      },
      "outputs": [
        {
          "data": {
            "text/plain": [
              "(94907.9491018188, 78000.0)"
            ]
          },
          "execution_count": 6,
          "metadata": {},
          "output_type": "execute_result"
        }
      ],
      "source": [
        "df[\"salary_monthly_NET\"].mean(), df[\"salary_monthly_NET\"].median()"
      ]
    },
    {
      "cell_type": "markdown",
      "metadata": {
        "id": "gFdl09vM75iY"
      },
      "source": [
        "**Why are the two measurements so different?**\n",
        "\n",
        "Mean properties:\n",
        "* Can be interpreted as the histogram's *center of mass*. That is, if the histogram were a wooden figure, the balance point where we can support it, and it does not fall is the mean.\n",
        "* It is susceptible to extreme values.\n",
        "\n",
        "**Is it proper for these data?**"
      ]
    },
    {
      "cell_type": "code",
      "execution_count": 7,
      "metadata": {
        "colab": {
          "base_uri": "https://localhost:8080/"
        },
        "id": "i-3jA7Eg7_16",
        "outputId": "40557c2f-327b-430c-f631-ebddc8b10a50"
      },
      "outputs": [
        {
          "data": {
            "text/plain": [
              "[(2080000.0, 94570.46320401224, 77900.0),\n",
              " (1000000, 92698.81889747956, 77522.5),\n",
              " (500000, 88151.87028949177, 77000.0),\n",
              " (400000, 85670.75178384922, 76000.0),\n",
              " (300000, 82071.23510452473, 75000.0),\n",
              " (200000, 77205.32366377127, 74824.5)]"
            ]
          },
          "execution_count": 7,
          "metadata": {},
          "output_type": "execute_result"
        }
      ],
      "source": [
        "max_salaries = [df[\"salary_monthly_NET\"].max(), 10**6, 500000, 400000, 300000, 200000]\n",
        "central_tendency = [\n",
        "    (max_salary, df[df[\"salary_monthly_NET\"] < max_salary][\"salary_monthly_NET\"].mean(),\n",
        "     df[df[\"salary_monthly_NET\"] < max_salary][\"salary_monthly_NET\"].median())\n",
        "    for max_salary in max_salaries\n",
        "]\n",
        "central_tendency"
      ]
    },
    {
      "cell_type": "markdown",
      "metadata": {
        "id": "pTT7r4ej8FMl"
      },
      "source": [
        "These numbers can be plotted to get a better intuition of the magnitude of the differences. Also, displaying a visualization can include more points.\n",
        "\n",
        "In order to create seaborn charts with different sets of data, it is often necessary to change the format of the dataframe from wide to long. See [this link](https://anvil.works/blog/tidy-data) for more information."
      ]
    },
    {
      "cell_type": "code",
      "execution_count": 8,
      "metadata": {
        "colab": {
          "base_uri": "https://localhost:8080/",
          "height": 143
        },
        "id": "iwUpgq538Ekn",
        "outputId": "6193816a-835c-4097-e85d-41df559f1179"
      },
      "outputs": [
        {
          "data": {
            "text/html": [
              "<div>\n",
              "<style scoped>\n",
              "    .dataframe tbody tr th:only-of-type {\n",
              "        vertical-align: middle;\n",
              "    }\n",
              "\n",
              "    .dataframe tbody tr th {\n",
              "        vertical-align: top;\n",
              "    }\n",
              "\n",
              "    .dataframe thead th {\n",
              "        text-align: right;\n",
              "    }\n",
              "</style>\n",
              "<table border=\"1\" class=\"dataframe\">\n",
              "  <thead>\n",
              "    <tr style=\"text-align: right;\">\n",
              "      <th></th>\n",
              "      <th>max_salary</th>\n",
              "      <th>metric</th>\n",
              "      <th>value</th>\n",
              "    </tr>\n",
              "  </thead>\n",
              "  <tbody>\n",
              "    <tr>\n",
              "      <th>0</th>\n",
              "      <td>50000</td>\n",
              "      <td>mean</td>\n",
              "      <td>31760.877295</td>\n",
              "    </tr>\n",
              "    <tr>\n",
              "      <th>1</th>\n",
              "      <td>60000</td>\n",
              "      <td>mean</td>\n",
              "      <td>38301.665653</td>\n",
              "    </tr>\n",
              "    <tr>\n",
              "      <th>2</th>\n",
              "      <td>70000</td>\n",
              "      <td>mean</td>\n",
              "      <td>44085.591719</td>\n",
              "    </tr>\n",
              "  </tbody>\n",
              "</table>\n",
              "</div>"
            ],
            "text/plain": [
              "   max_salary metric         value\n",
              "0       50000   mean  31760.877295\n",
              "1       60000   mean  38301.665653\n",
              "2       70000   mean  44085.591719"
            ]
          },
          "execution_count": 8,
          "metadata": {},
          "output_type": "execute_result"
        }
      ],
      "source": [
        "central_tendency_max = [\n",
        "    (max_salary, df[df[\"salary_monthly_NET\"] < max_salary][\"salary_monthly_NET\"].mean(),\n",
        "     df[df[\"salary_monthly_NET\"] < max_salary][\"salary_monthly_NET\"].median())\n",
        "    for max_salary in range(50000, int(df[\"salary_monthly_NET\"].max()), 10**4)\n",
        "]\n",
        "central_tendency_max_df = pd.DataFrame(central_tendency_max,\n",
        "                                   columns=['max_salary', 'mean', 'median'])\\\n",
        "  .melt(id_vars='max_salary', var_name='metric')\n",
        "\n",
        "central_tendency_max_df[:3]"
      ]
    },
    {
      "cell_type": "code",
      "execution_count": 9,
      "metadata": {
        "colab": {
          "base_uri": "https://localhost:8080/",
          "height": 355
        },
        "id": "qJEH-yYJ8oNr",
        "outputId": "667ef945-3190-4c89-e764-5a811c4dabe0"
      },
      "outputs": [
        {
          "data": {
            "image/png": "[encoded data removed]",
            "text/plain": [
              "<Figure size 1080x360 with 1 Axes>"
            ]
          },
          "metadata": {
            "needs_background": "light"
          },
          "output_type": "display_data"
        }
      ],
      "source": [
        "fig = plt.figure(figsize=(15, 5))\n",
        "seaborn.lineplot(data=central_tendency_max_df, x='max_salary', y='value', hue='metric')\n",
        "plt.ticklabel_format(style='plain', axis='x')\n",
        "seaborn.despine()"
      ]
    },
    {
      "cell_type": "code",
      "execution_count": 10,
      "metadata": {
        "colab": {
          "base_uri": "https://localhost:8080/",
          "height": 519
        },
        "id": "1JAMSsgj8ugc",
        "outputId": "dd603e20-9cea-45f1-9cc4-ac8e138404db"
      },
      "outputs": [
        {
          "data": {
            "image/png": "[encoded data removed]",
            "text/plain": [
              "<Figure size 1152x576 with 2 Axes>"
            ]
          },
          "metadata": {
            "needs_background": "light"
          },
          "output_type": "display_data"
        }
      ],
      "source": [
        "## The difference is not always visible on the charts\n",
        "fig, axes = plt.subplots(nrows=2, figsize=(16, 8))\n",
        "seaborn.histplot(df[\"salary_monthly_NET\"], bins=100, ax=axes[0], color='gray')\n",
        "axes[0].axvline(df[\"salary_monthly_NET\"].mean(), color='orangered',\n",
        "            linestyle='--', label='Mean')\n",
        "axes[0].axvline(df[\"salary_monthly_NET\"].median(), color='indigo',\n",
        "            linestyle='-.', label='Median')\n",
        "\n",
        "filtered_df = df[df[\"salary_monthly_NET\"] < 200000]\n",
        "seaborn.histplot(filtered_df[\"salary_monthly_NET\"], bins=100, ax=axes[1], color='gray')\n",
        "axes[1].axvline(filtered_df[\"salary_monthly_NET\"].mean(), color='orangered',\n",
        "            linestyle='--', label='Mean')\n",
        "axes[1].axvline(filtered_df[\"salary_monthly_NET\"].median(), color='indigo',\n",
        "            linestyle='-.', label='Median')\n",
        "\n",
        "axes[0].legend()\n",
        "seaborn.despine()"
      ]
    },
    {
      "cell_type": "markdown",
      "metadata": {
        "id": "H3ZvoTvizjjC"
      },
      "source": [
        "## Measures of dispersion\n",
        "\n",
        "The most used measures of dispersion are standard deviation, variance, and variance coefficient. They permit to represent properties of our data with one number.\n",
        "\n",
        "For example, let's compare the net salary with the gross one. Do you think we should note any difference?"
      ]
    },
    {
      "cell_type": "code",
      "execution_count": 12,
      "metadata": {
        "colab": {
          "base_uri": "https://localhost:8080/",
          "height": 300
        },
        "id": "2ih3UkOs0iIY",
        "outputId": "3d430275-1bfe-4ad8-d9e0-afad79c81821"
      },
      "outputs": [
        {
          "data": {
            "text/html": [
              "<div>\n",
              "<style scoped>\n",
              "    .dataframe tbody tr th:only-of-type {\n",
              "        vertical-align: middle;\n",
              "    }\n",
              "\n",
              "    .dataframe tbody tr th {\n",
              "        vertical-align: top;\n",
              "    }\n",
              "\n",
              "    .dataframe thead th {\n",
              "        text-align: right;\n",
              "    }\n",
              "</style>\n",
              "<table border=\"1\" class=\"dataframe\">\n",
              "  <thead>\n",
              "    <tr style=\"text-align: right;\">\n",
              "      <th></th>\n",
              "      <th>salary_monthly_NET</th>\n",
              "      <th>salary_monthly_GROSS</th>\n",
              "    </tr>\n",
              "  </thead>\n",
              "  <tbody>\n",
              "    <tr>\n",
              "      <th>count</th>\n",
              "      <td>5883.0</td>\n",
              "      <td>6095.0</td>\n",
              "    </tr>\n",
              "    <tr>\n",
              "      <th>mean</th>\n",
              "      <td>94908.0</td>\n",
              "      <td>124059.0</td>\n",
              "    </tr>\n",
              "    <tr>\n",
              "      <th>std</th>\n",
              "      <td>96862.0</td>\n",
              "      <td>122912.0</td>\n",
              "    </tr>\n",
              "    <tr>\n",
              "      <th>min</th>\n",
              "      <td>1.0</td>\n",
              "      <td>1.0</td>\n",
              "    </tr>\n",
              "    <tr>\n",
              "      <th>25%</th>\n",
              "      <td>51480.0</td>\n",
              "      <td>61595.0</td>\n",
              "    </tr>\n",
              "    <tr>\n",
              "      <th>50%</th>\n",
              "      <td>78000.0</td>\n",
              "      <td>96000.0</td>\n",
              "    </tr>\n",
              "    <tr>\n",
              "      <th>75%</th>\n",
              "      <td>106000.0</td>\n",
              "      <td>145000.0</td>\n",
              "    </tr>\n",
              "    <tr>\n",
              "      <th>max</th>\n",
              "      <td>2080000.0</td>\n",
              "      <td>2180000.0</td>\n",
              "    </tr>\n",
              "  </tbody>\n",
              "</table>\n",
              "</div>"
            ],
            "text/plain": [
              "       salary_monthly_NET  salary_monthly_GROSS\n",
              "count              5883.0                6095.0\n",
              "mean              94908.0              124059.0\n",
              "std               96862.0              122912.0\n",
              "min                   1.0                   1.0\n",
              "25%               51480.0               61595.0\n",
              "50%               78000.0               96000.0\n",
              "75%              106000.0              145000.0\n",
              "max             2080000.0             2180000.0"
            ]
          },
          "execution_count": 12,
          "metadata": {},
          "output_type": "execute_result"
        }
      ],
      "source": [
        "df[['salary_monthly_NET', 'salary_monthly_GROSS']].describe().round()"
      ]
    },
    {
      "cell_type": "markdown",
      "metadata": {
        "id": "ZS6gfwLb4d7f"
      },
      "source": [
        "## Removing outliers\n",
        "\n",
        "## Using percentiles \n",
        "\n",
        "One possible approach to delete outliers that affect the measures of centrality (mean, median, and visualizations) is to find an extreme percentage of our data through percentiles.\n",
        "\n",
        "For example, we can retain the 99% lowest salaries and eliminate the remaining 1%. We can calculate all the possible percentiles to decide which is appropriate."
      ]
    },
    {
      "cell_type": "code",
      "execution_count": 14,
      "metadata": {
        "colab": {
          "base_uri": "https://localhost:8080/"
        },
        "id": "07vpH6UB7dXj",
        "outputId": "887b16b9-1ddd-4599-b219-635772ecc7bd"
      },
      "outputs": [
        {
          "name": "stdout",
          "output_type": "stream",
          "text": [
            "Percentil 90 of the column salary_monthly_NET: 150000.0\n",
            "% of data below the percentil 90: 0.8698933552091879\n",
            "% of data above the percentil 90: 0.09532403609515996\n"
          ]
        }
      ],
      "source": [
        "k = 90\n",
        "percentil_90 = df[\"salary_monthly_NET\"].quantile(k / 100)\n",
        "nof_below = len(df[df[\"salary_monthly_NET\"] <= percentil_90])\n",
        "nof_above = len(df[df[\"salary_monthly_NET\"] > percentil_90])\n",
        "print('Percentil {} of the column {}: {}'.format(k, \"salary_monthly_NET\", percentil_90))\n",
        "print('% of data below the percentil {}: {}'.format(k, nof_below / len(df)))\n",
        "print('% of data above the percentil {}: {}'.format(k, nof_above / len(df)))"
      ]
    },
    {
      "cell_type": "code",
      "execution_count": 19,
      "metadata": {
        "colab": {
          "base_uri": "https://localhost:8080/"
        },
        "id": "CZuvCpdn7lWd",
        "outputId": "5af13cb7-b686-42ff-eff2-ad0bbe2cc7f4"
      },
      "outputs": [
        {
          "data": {
            "text/plain": [
              "0.950    210000.00\n",
              "0.980    370000.00\n",
              "0.990    491800.00\n",
              "0.995    650000.00\n",
              "0.998    955289.52\n",
              "Name: salary_monthly_NET, dtype: float64"
            ]
          },
          "execution_count": 19,
          "metadata": {},
          "output_type": "execute_result"
        }
      ],
      "source": [
        "df[\"salary_monthly_NET\"].quantile([.95, .98, .99, .995, .998])"
      ]
    },
    {
      "cell_type": "code",
      "execution_count": 20,
      "metadata": {
        "colab": {
          "base_uri": "https://localhost:8080/",
          "height": 760
        },
        "id": "Ph1UWG9P_1yA",
        "outputId": "ecf06589-e15e-4802-eeea-0d783366ceb2"
      },
      "outputs": [
        {
          "data": {
            "text/plain": [
              "<AxesSubplot:xlabel='salary_monthly_NET'>"
            ]
          },
          "execution_count": 20,
          "metadata": {},
          "output_type": "execute_result"
        },
        {
          "data": {
            "image/png": "[encoded data removed]",
            "text/plain": [
              "<Figure size 864x864 with 3 Axes>"
            ]
          },
          "metadata": {
            "needs_background": "light"
          },
          "output_type": "display_data"
        }
      ],
      "source": [
        "fig, axes = plt.subplots(figsize=(12, 12), nrows=3)\n",
        "max_limit = df[\"salary_monthly_NET\"].quantile(.98)\n",
        "data = df[df[\"salary_monthly_NET\"] < max_limit][\"salary_monthly_NET\"]\n",
        "seaborn.histplot(x=data, ax=axes[0])\n",
        "seaborn.boxplot(x=data, ax=axes[1])\n",
        "seaborn.boxenplot(x=data, ax=axes[2])"
      ]
    },
    {
      "cell_type": "code",
      "execution_count": 18,
      "metadata": {
        "colab": {
          "base_uri": "https://localhost:8080/"
        },
        "id": "qS_DSGQ4-fma",
        "outputId": "cd3166f1-8b43-4434-d940-ec33cd49ea4a"
      },
      "outputs": [
        {
          "data": {
            "text/plain": [
              "count      5764.000000\n",
              "mean      84693.019009\n",
              "std       52928.345117\n",
              "min           1.000000\n",
              "25%       50678.000000\n",
              "50%       76000.000000\n",
              "75%      105000.000000\n",
              "max      368300.000000\n",
              "Name: salary_monthly_NET, dtype: float64"
            ]
          },
          "execution_count": 18,
          "metadata": {},
          "output_type": "execute_result"
        }
      ],
      "source": [
        "df[df[\"salary_monthly_NET\"] < max_limit][\"salary_monthly_NET\"].describe()"
      ]
    },
    {
      "cell_type": "markdown",
      "metadata": {
        "id": "7GvCP2b7ALJW"
      },
      "source": [
        "## Using interquartile range"
      ]
    },
    {
      "cell_type": "code",
      "execution_count": 21,
      "metadata": {
        "id": "HBC268rDArQy"
      },
      "outputs": [],
      "source": [
        "def clean_outliers_q3(dataset, column_name):\n",
        "    \"\"\"Returns dataset removing the outlier rows from column @column_name.\"\"\"\n",
        "    interesting_col = dataset[column_name]\n",
        "    # Here we can remove the outliers from both ends, or even add more restrictions.\n",
        "    mask_outlier = (interesting_col <= (1.5 * interesting_col.quantile(.75)))\n",
        "    return dataset[mask_outlier]"
      ]
    },
    {
      "cell_type": "code",
      "execution_count": 22,
      "metadata": {
        "id": "X9o68kHHA_il"
      },
      "outputs": [
        {
          "data": {
            "text/plain": [
              "<AxesSubplot:xlabel='salary_monthly_NET', ylabel='Count'>"
            ]
          },
          "execution_count": 22,
          "metadata": {},
          "output_type": "execute_result"
        },
        {
          "data": {
            "image/png": "[encoded data removed]",
            "text/plain": [
              "<Figure size 864x288 with 1 Axes>"
            ]
          },
          "metadata": {
            "needs_background": "light"
          },
          "output_type": "display_data"
        }
      ],
      "source": [
        "fig = plt.figure(figsize=(12, 4))\n",
        "data = clean_outliers_q3(df, \"salary_monthly_NET\")[\"salary_monthly_NET\"]\n",
        "seaborn.histplot(x=data)"
      ]
    },
    {
      "cell_type": "code",
      "execution_count": 23,
      "metadata": {
        "id": "YF6s_KASAy0r"
      },
      "outputs": [],
      "source": [
        "def clean_outliers_std(dataset, column_name):\n",
        "    \"\"\"Returns dataset removing the outlier rows from column @column_name.\"\"\"\n",
        "    interesting_col = dataset[column_name]\n",
        "    # Here we can remove the outliers from both ends, or even add more restrictions.\n",
        "    mask_outlier = (\n",
        "        numpy.abs(interesting_col - interesting_col.mean()) <=\n",
        "        (2.5 * interesting_col.std()))\n",
        "    return dataset[mask_outlier]"
      ]
    },
    {
      "cell_type": "code",
      "execution_count": 25,
      "metadata": {
        "id": "aIjIZzerA5Vz"
      },
      "outputs": [
        {
          "data": {
            "text/plain": [
              "<AxesSubplot:xlabel='salary_monthly_NET', ylabel='Count'>"
            ]
          },
          "execution_count": 25,
          "metadata": {},
          "output_type": "execute_result"
        },
        {
          "data": {
            "image/png": "[encoded data removed]",
            "text/plain": [
              "<Figure size 864x288 with 1 Axes>"
            ]
          },
          "metadata": {
            "needs_background": "light"
          },
          "output_type": "display_data"
        }
      ],
      "source": [
        "fig = plt.figure(figsize=(12, 4))\n",
        "data = clean_outliers_std(df, \"salary_monthly_NET\")[\"salary_monthly_NET\"]\n",
        "seaborn.histplot(x=data)"
      ]
    },
    {
      "cell_type": "markdown",
      "metadata": {
        "id": "qVbfAnoRBr_V"
      },
      "source": [
        "### Don't forget to check what you're removing!\n",
        "\n",
        "Who are the ones with a high salary?"
      ]
    },
    {
      "cell_type": "code",
      "execution_count": 26,
      "metadata": {
        "colab": {
          "base_uri": "https://localhost:8080/",
          "height": 1000
        },
        "id": "7iBqaqsPBqCS",
        "outputId": "5d9c8d34-ff3b-487f-9bcf-368b0afa149b"
      },
      "outputs": [
        {
          "data": {
            "text/html": [
              "<div>\n",
              "<style scoped>\n",
              "    .dataframe tbody tr th:only-of-type {\n",
              "        vertical-align: middle;\n",
              "    }\n",
              "\n",
              "    .dataframe tbody tr th {\n",
              "        vertical-align: top;\n",
              "    }\n",
              "\n",
              "    .dataframe thead th {\n",
              "        text-align: right;\n",
              "    }\n",
              "</style>\n",
              "<table border=\"1\" class=\"dataframe\">\n",
              "  <thead>\n",
              "    <tr style=\"text-align: right;\">\n",
              "      <th></th>\n",
              "      <th>profile_gender</th>\n",
              "      <th>profile_age</th>\n",
              "      <th>work_country</th>\n",
              "      <th>work_province</th>\n",
              "      <th>profile_years_experience</th>\n",
              "      <th>work_years_in_company</th>\n",
              "      <th>work_years_in_current_position</th>\n",
              "      <th>work_people_in_charge_of</th>\n",
              "      <th>profile_studies_level</th>\n",
              "      <th>profile_studies_level_state</th>\n",
              "      <th>...</th>\n",
              "      <th>salary_has_bonus</th>\n",
              "      <th>salary_inflation_adjustment_2020</th>\n",
              "      <th>salary_percentage_inflation_adjustment_2020</th>\n",
              "      <th>salary_month_last_inflation_adjustment</th>\n",
              "      <th>work_has_violence_situations</th>\n",
              "      <th>profile_has_disabilities_hiring_difficulties</th>\n",
              "      <th>company_employee_number</th>\n",
              "      <th>company_main_activity</th>\n",
              "      <th>company_recommended</th>\n",
              "      <th>company_diversity_policies</th>\n",
              "    </tr>\n",
              "  </thead>\n",
              "  <tbody>\n",
              "    <tr>\n",
              "      <th>261</th>\n",
              "      <td>Male</td>\n",
              "      <td>37</td>\n",
              "      <td>Argentina</td>\n",
              "      <td>Ciudad Autónoma de Buenos Aires</td>\n",
              "      <td>21.0</td>\n",
              "      <td>10.0</td>\n",
              "      <td>10.0</td>\n",
              "      <td>17</td>\n",
              "      <td>University</td>\n",
              "      <td>Incomplete</td>\n",
              "      <td>...</td>\n",
              "      <td>3+ salaries</td>\n",
              "      <td>One</td>\n",
              "      <td>20.0</td>\n",
              "      <td>4</td>\n",
              "      <td>Never</td>\n",
              "      <td>NaN</td>\n",
              "      <td>5001-10000</td>\n",
              "      <td>Software based product</td>\n",
              "      <td>9</td>\n",
              "      <td>9</td>\n",
              "    </tr>\n",
              "    <tr>\n",
              "      <th>267</th>\n",
              "      <td>Other</td>\n",
              "      <td>40</td>\n",
              "      <td>Argentina</td>\n",
              "      <td>Provincia de Buenos Aires</td>\n",
              "      <td>20.0</td>\n",
              "      <td>0.0</td>\n",
              "      <td>0.0</td>\n",
              "      <td>0</td>\n",
              "      <td>University</td>\n",
              "      <td>Incomplete</td>\n",
              "      <td>...</td>\n",
              "      <td>One salary</td>\n",
              "      <td>No</td>\n",
              "      <td>0.0</td>\n",
              "      <td>0</td>\n",
              "      <td>Never</td>\n",
              "      <td>No</td>\n",
              "      <td>1-10</td>\n",
              "      <td>Software based product</td>\n",
              "      <td>9</td>\n",
              "      <td>10</td>\n",
              "    </tr>\n",
              "    <tr>\n",
              "      <th>303</th>\n",
              "      <td>Male</td>\n",
              "      <td>34</td>\n",
              "      <td>Argentina</td>\n",
              "      <td>Provincia de Buenos Aires</td>\n",
              "      <td>10.0</td>\n",
              "      <td>2.0</td>\n",
              "      <td>8.0</td>\n",
              "      <td>0</td>\n",
              "      <td>University</td>\n",
              "      <td>Incomplete</td>\n",
              "      <td>...</td>\n",
              "      <td>No</td>\n",
              "      <td>No</td>\n",
              "      <td>0.0</td>\n",
              "      <td>0</td>\n",
              "      <td>In a previous job</td>\n",
              "      <td>No</td>\n",
              "      <td>201-500</td>\n",
              "      <td>Services / Software Consulting / Digital</td>\n",
              "      <td>10</td>\n",
              "      <td>7</td>\n",
              "    </tr>\n",
              "    <tr>\n",
              "      <th>318</th>\n",
              "      <td>Male</td>\n",
              "      <td>40</td>\n",
              "      <td>Argentina</td>\n",
              "      <td>Santa Fe</td>\n",
              "      <td>4.0</td>\n",
              "      <td>0.0</td>\n",
              "      <td>0.0</td>\n",
              "      <td>0</td>\n",
              "      <td>Postdoc</td>\n",
              "      <td>Complete</td>\n",
              "      <td>...</td>\n",
              "      <td>No</td>\n",
              "      <td>No</td>\n",
              "      <td>0.0</td>\n",
              "      <td>0</td>\n",
              "      <td>Never</td>\n",
              "      <td>NaN</td>\n",
              "      <td>1001-2000</td>\n",
              "      <td>Services / Software Consulting / Digital</td>\n",
              "      <td>8</td>\n",
              "      <td>10</td>\n",
              "    </tr>\n",
              "    <tr>\n",
              "      <th>437</th>\n",
              "      <td>Male</td>\n",
              "      <td>36</td>\n",
              "      <td>Argentina</td>\n",
              "      <td>Ciudad Autónoma de Buenos Aires</td>\n",
              "      <td>17.0</td>\n",
              "      <td>4.0</td>\n",
              "      <td>4.0</td>\n",
              "      <td>15</td>\n",
              "      <td>University</td>\n",
              "      <td>Incomplete</td>\n",
              "      <td>...</td>\n",
              "      <td>One salary</td>\n",
              "      <td>No</td>\n",
              "      <td>0.0</td>\n",
              "      <td>0</td>\n",
              "      <td>In a previous job</td>\n",
              "      <td>No</td>\n",
              "      <td>1001-2000</td>\n",
              "      <td>Software based product</td>\n",
              "      <td>7</td>\n",
              "      <td>10</td>\n",
              "    </tr>\n",
              "    <tr>\n",
              "      <th>...</th>\n",
              "      <td>...</td>\n",
              "      <td>...</td>\n",
              "      <td>...</td>\n",
              "      <td>...</td>\n",
              "      <td>...</td>\n",
              "      <td>...</td>\n",
              "      <td>...</td>\n",
              "      <td>...</td>\n",
              "      <td>...</td>\n",
              "      <td>...</td>\n",
              "      <td>...</td>\n",
              "      <td>...</td>\n",
              "      <td>...</td>\n",
              "      <td>...</td>\n",
              "      <td>...</td>\n",
              "      <td>...</td>\n",
              "      <td>...</td>\n",
              "      <td>...</td>\n",
              "      <td>...</td>\n",
              "      <td>...</td>\n",
              "      <td>...</td>\n",
              "    </tr>\n",
              "    <tr>\n",
              "      <th>5799</th>\n",
              "      <td>Male</td>\n",
              "      <td>32</td>\n",
              "      <td>Argentina</td>\n",
              "      <td>Ciudad Autónoma de Buenos Aires</td>\n",
              "      <td>10.0</td>\n",
              "      <td>1.0</td>\n",
              "      <td>1.0</td>\n",
              "      <td>1</td>\n",
              "      <td>Terciary</td>\n",
              "      <td>Complete</td>\n",
              "      <td>...</td>\n",
              "      <td>Less than a salary</td>\n",
              "      <td>No</td>\n",
              "      <td>0.0</td>\n",
              "      <td>0</td>\n",
              "      <td>Never</td>\n",
              "      <td>NaN</td>\n",
              "      <td>201-500</td>\n",
              "      <td>Software based product</td>\n",
              "      <td>9</td>\n",
              "      <td>9</td>\n",
              "    </tr>\n",
              "    <tr>\n",
              "      <th>5819</th>\n",
              "      <td>Male</td>\n",
              "      <td>35</td>\n",
              "      <td>Argentina</td>\n",
              "      <td>Ciudad Autónoma de Buenos Aires</td>\n",
              "      <td>10.0</td>\n",
              "      <td>10.0</td>\n",
              "      <td>10.0</td>\n",
              "      <td>0</td>\n",
              "      <td>University</td>\n",
              "      <td>Ongoing</td>\n",
              "      <td>...</td>\n",
              "      <td>Less than a salary</td>\n",
              "      <td>Two</td>\n",
              "      <td>23.0</td>\n",
              "      <td>7</td>\n",
              "      <td>Never</td>\n",
              "      <td>NaN</td>\n",
              "      <td>2001-5000</td>\n",
              "      <td>Other industries</td>\n",
              "      <td>9</td>\n",
              "      <td>8</td>\n",
              "    </tr>\n",
              "    <tr>\n",
              "      <th>5878</th>\n",
              "      <td>Male</td>\n",
              "      <td>54</td>\n",
              "      <td>Argentina</td>\n",
              "      <td>Ciudad Autónoma de Buenos Aires</td>\n",
              "      <td>36.0</td>\n",
              "      <td>34.0</td>\n",
              "      <td>8.0</td>\n",
              "      <td>2500</td>\n",
              "      <td>Postgraduate</td>\n",
              "      <td>Complete</td>\n",
              "      <td>...</td>\n",
              "      <td>No</td>\n",
              "      <td>Two</td>\n",
              "      <td>20.0</td>\n",
              "      <td>7</td>\n",
              "      <td>Never</td>\n",
              "      <td>NaN</td>\n",
              "      <td>10001+</td>\n",
              "      <td>Other industries</td>\n",
              "      <td>7</td>\n",
              "      <td>5</td>\n",
              "    </tr>\n",
              "    <tr>\n",
              "      <th>6024</th>\n",
              "      <td>Male</td>\n",
              "      <td>39</td>\n",
              "      <td>Argentina</td>\n",
              "      <td>Santa Fe</td>\n",
              "      <td>18.0</td>\n",
              "      <td>2.0</td>\n",
              "      <td>2.0</td>\n",
              "      <td>0</td>\n",
              "      <td>University</td>\n",
              "      <td>Complete</td>\n",
              "      <td>...</td>\n",
              "      <td>No</td>\n",
              "      <td>No</td>\n",
              "      <td>0.0</td>\n",
              "      <td>0</td>\n",
              "      <td>Never</td>\n",
              "      <td>NaN</td>\n",
              "      <td>101-200</td>\n",
              "      <td>Software based product</td>\n",
              "      <td>7</td>\n",
              "      <td>9</td>\n",
              "    </tr>\n",
              "    <tr>\n",
              "      <th>6080</th>\n",
              "      <td>Male</td>\n",
              "      <td>30</td>\n",
              "      <td>Argentina</td>\n",
              "      <td>San Luis</td>\n",
              "      <td>5.0</td>\n",
              "      <td>2.0</td>\n",
              "      <td>2.0</td>\n",
              "      <td>0</td>\n",
              "      <td>Terciary</td>\n",
              "      <td>Incomplete</td>\n",
              "      <td>...</td>\n",
              "      <td>Less than a salary</td>\n",
              "      <td>No</td>\n",
              "      <td>0.0</td>\n",
              "      <td>1</td>\n",
              "      <td>In a previous job</td>\n",
              "      <td>No</td>\n",
              "      <td>501-1000</td>\n",
              "      <td>Services / Software Consulting / Digital</td>\n",
              "      <td>10</td>\n",
              "      <td>10</td>\n",
              "    </tr>\n",
              "  </tbody>\n",
              "</table>\n",
              "<p>115 rows × 43 columns</p>\n",
              "</div>"
            ],
            "text/plain": [
              "     profile_gender  profile_age work_country  \\\n",
              "261            Male           37    Argentina   \n",
              "267           Other           40    Argentina   \n",
              "303            Male           34    Argentina   \n",
              "318            Male           40    Argentina   \n",
              "437            Male           36    Argentina   \n",
              "...             ...          ...          ...   \n",
              "5799           Male           32    Argentina   \n",
              "5819           Male           35    Argentina   \n",
              "5878           Male           54    Argentina   \n",
              "6024           Male           39    Argentina   \n",
              "6080           Male           30    Argentina   \n",
              "\n",
              "                        work_province  profile_years_experience  \\\n",
              "261   Ciudad Autónoma de Buenos Aires                      21.0   \n",
              "267         Provincia de Buenos Aires                      20.0   \n",
              "303         Provincia de Buenos Aires                      10.0   \n",
              "318                          Santa Fe                       4.0   \n",
              "437   Ciudad Autónoma de Buenos Aires                      17.0   \n",
              "...                               ...                       ...   \n",
              "5799  Ciudad Autónoma de Buenos Aires                      10.0   \n",
              "5819  Ciudad Autónoma de Buenos Aires                      10.0   \n",
              "5878  Ciudad Autónoma de Buenos Aires                      36.0   \n",
              "6024                         Santa Fe                      18.0   \n",
              "6080                         San Luis                       5.0   \n",
              "\n",
              "      work_years_in_company  work_years_in_current_position  \\\n",
              "261                    10.0                            10.0   \n",
              "267                     0.0                             0.0   \n",
              "303                     2.0                             8.0   \n",
              "318                     0.0                             0.0   \n",
              "437                     4.0                             4.0   \n",
              "...                     ...                             ...   \n",
              "5799                    1.0                             1.0   \n",
              "5819                   10.0                            10.0   \n",
              "5878                   34.0                             8.0   \n",
              "6024                    2.0                             2.0   \n",
              "6080                    2.0                             2.0   \n",
              "\n",
              "      work_people_in_charge_of profile_studies_level  \\\n",
              "261                         17            University   \n",
              "267                          0            University   \n",
              "303                          0            University   \n",
              "318                          0               Postdoc   \n",
              "437                         15            University   \n",
              "...                        ...                   ...   \n",
              "5799                         1              Terciary   \n",
              "5819                         0            University   \n",
              "5878                      2500          Postgraduate   \n",
              "6024                         0            University   \n",
              "6080                         0              Terciary   \n",
              "\n",
              "     profile_studies_level_state  ...    salary_has_bonus  \\\n",
              "261                   Incomplete  ...         3+ salaries   \n",
              "267                   Incomplete  ...          One salary   \n",
              "303                   Incomplete  ...                  No   \n",
              "318                     Complete  ...                  No   \n",
              "437                   Incomplete  ...          One salary   \n",
              "...                          ...  ...                 ...   \n",
              "5799                    Complete  ...  Less than a salary   \n",
              "5819                     Ongoing  ...  Less than a salary   \n",
              "5878                    Complete  ...                  No   \n",
              "6024                    Complete  ...                  No   \n",
              "6080                  Incomplete  ...  Less than a salary   \n",
              "\n",
              "     salary_inflation_adjustment_2020  \\\n",
              "261                               One   \n",
              "267                                No   \n",
              "303                                No   \n",
              "318                                No   \n",
              "437                                No   \n",
              "...                               ...   \n",
              "5799                               No   \n",
              "5819                              Two   \n",
              "5878                              Two   \n",
              "6024                               No   \n",
              "6080                               No   \n",
              "\n",
              "     salary_percentage_inflation_adjustment_2020  \\\n",
              "261                                         20.0   \n",
              "267                                          0.0   \n",
              "303                                          0.0   \n",
              "318                                          0.0   \n",
              "437                                          0.0   \n",
              "...                                          ...   \n",
              "5799                                         0.0   \n",
              "5819                                        23.0   \n",
              "5878                                        20.0   \n",
              "6024                                         0.0   \n",
              "6080                                         0.0   \n",
              "\n",
              "     salary_month_last_inflation_adjustment work_has_violence_situations  \\\n",
              "261                                       4                        Never   \n",
              "267                                       0                        Never   \n",
              "303                                       0            In a previous job   \n",
              "318                                       0                        Never   \n",
              "437                                       0            In a previous job   \n",
              "...                                     ...                          ...   \n",
              "5799                                      0                        Never   \n",
              "5819                                      7                        Never   \n",
              "5878                                      7                        Never   \n",
              "6024                                      0                        Never   \n",
              "6080                                      1            In a previous job   \n",
              "\n",
              "     profile_has_disabilities_hiring_difficulties company_employee_number  \\\n",
              "261                                           NaN              5001-10000   \n",
              "267                                            No                    1-10   \n",
              "303                                            No                 201-500   \n",
              "318                                           NaN               1001-2000   \n",
              "437                                            No               1001-2000   \n",
              "...                                           ...                     ...   \n",
              "5799                                          NaN                 201-500   \n",
              "5819                                          NaN               2001-5000   \n",
              "5878                                          NaN                  10001+   \n",
              "6024                                          NaN                 101-200   \n",
              "6080                                           No                501-1000   \n",
              "\n",
              "                         company_main_activity company_recommended  \\\n",
              "261                     Software based product                   9   \n",
              "267                     Software based product                   9   \n",
              "303   Services / Software Consulting / Digital                  10   \n",
              "318   Services / Software Consulting / Digital                   8   \n",
              "437                     Software based product                   7   \n",
              "...                                        ...                 ...   \n",
              "5799                    Software based product                   9   \n",
              "5819                          Other industries                   9   \n",
              "5878                          Other industries                   7   \n",
              "6024                    Software based product                   7   \n",
              "6080  Services / Software Consulting / Digital                  10   \n",
              "\n",
              "     company_diversity_policies  \n",
              "261                           9  \n",
              "267                          10  \n",
              "303                           7  \n",
              "318                          10  \n",
              "437                          10  \n",
              "...                         ...  \n",
              "5799                          9  \n",
              "5819                          8  \n",
              "5878                          5  \n",
              "6024                          9  \n",
              "6080                         10  \n",
              "\n",
              "[115 rows x 43 columns]"
            ]
          },
          "execution_count": 26,
          "metadata": {},
          "output_type": "execute_result"
        }
      ],
      "source": [
        "df[df[\"salary_monthly_NET\"] > df[\"salary_monthly_NET\"].quantile(0.98)]"
      ]
    }
  ],
  "metadata": {
    "colab": {
      "collapsed_sections": [],
      "name": "02__descriptive_statistics.ipynb",
      "provenance": []
    },
    "kernelspec": {
      "display_name": "Python 3",
      "name": "python3"
    },
    "language_info": {
      "codemirror_mode": {
        "name": "ipython",
        "version": 3
      },
      "file_extension": ".py",
      "mimetype": "text/x-python",
      "name": "python",
      "nbconvert_exporter": "python",
      "pygments_lexer": "ipython3",
      "version": "3.9.7"
    }
  },
  "nbformat": 4,
  "nbformat_minor": 0
}

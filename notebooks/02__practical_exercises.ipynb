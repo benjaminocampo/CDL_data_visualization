{
 "cells": [
  {
   "cell_type": "markdown",
   "metadata": {},
   "source": [
    "## Practical Exercises\n",
    "\n",
    "We are going to work on a different dataset from the theory. It's a dataset oriented to housing properties on sale in Melbourne, Australia. Each row registers a sold property and each column its properties."
   ]
  },
  {
   "cell_type": "code",
   "execution_count": null,
   "metadata": {},
   "outputs": [],
   "source": [
    "import pandas as pd\n",
    "\n",
    "melb_housing_df = pd.read_csv(\"./melb_housing_df.csv\")"
   ]
  },
  {
   "cell_type": "markdown",
   "metadata": {},
   "source": [
    "**Exercises**:\n",
    "\n",
    "**1)** Remove outliers of the random variable `housing_price` by filtering out\n",
    "all those instances which are 2.5 standard deviations apart from the mean. That\n",
    "is, given an instance $x$ and mean $\\overline{x}$ and standard deviation\n",
    "$\\sigma$, $x$ is **not** considered **an outlier** iff:\n",
    "\n",
    "$$|x - \\overline{x}| \\leq 2.5 \\times \\sigma $$\n",
    "\n",
    "Apply the filter by updating the dataframe `melb_housing_df`.\n",
    "\n",
    "**2)** Using the filtered dataframe `melb_housing_df` of exercise 1) and the\n",
    "columns `housing_seller_agency` and `housing_price`, obtain the total collected\n",
    "money of the seller sales. Then, select the sellers with the 10 highest earnings\n",
    "(Top 10 best sellers).\n",
    "\n",
    "**3)** Create a `barplot` using `seaborn` that compares on the X ax the agency\n",
    "of these 10 sellers and their average property price.\n",
    "\n",
    "**4)** Create the same `barplot` but this time using `plotly`. Remember that a\n",
    "barplot performs an aggregation that in seaborn is done automatically, but in\n",
    "Plotly, you'll have to make the aggregation before with pandas. Do not consider\n",
    "the error bars for this plot."
   ]
  },
  {
   "cell_type": "markdown",
   "metadata": {},
   "source": []
  }
 ],
 "metadata": {
  "language_info": {
   "name": "python"
  },
  "orig_nbformat": 4
 },
 "nbformat": 4,
 "nbformat_minor": 2
}

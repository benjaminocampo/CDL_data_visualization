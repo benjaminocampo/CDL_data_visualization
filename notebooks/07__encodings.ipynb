{
 "cells": [
  {
   "cell_type": "markdown",
   "metadata": {},
   "source": [
    "# Encodings\n",
    "\n",
    "In this notebook, we are going to upload the [Kaggle competition](https://www.kaggle.com/dansbecker/melbourne-housing-snapshot) dataset on estimating property sales prices in Melbourne, Australia.\n",
    "\n",
    "We will use the reduced dataset produced by [DanB](https://www.kaggle.com/dansbecker). We have uploaded a copy to a server at the National University of Córdoba to facilitate remote access."
   ]
  },
  {
   "cell_type": "code",
   "execution_count": 1,
   "metadata": {},
   "outputs": [],
   "source": [
    "import matplotlib.pyplot as plt\n",
    "import numpy\n",
    "import pandas\n",
    "\n",
    "import seaborn\n",
    "seaborn.set_context('talk')"
   ]
  },
  {
   "cell_type": "code",
   "execution_count": 2,
   "metadata": {},
   "outputs": [
    {
     "data": {
      "text/html": [
       "<div>\n",
       "<style scoped>\n",
       "    .dataframe tbody tr th:only-of-type {\n",
       "        vertical-align: middle;\n",
       "    }\n",
       "\n",
       "    .dataframe tbody tr th {\n",
       "        vertical-align: top;\n",
       "    }\n",
       "\n",
       "    .dataframe thead th {\n",
       "        text-align: right;\n",
       "    }\n",
       "</style>\n",
       "<table border=\"1\" class=\"dataframe\">\n",
       "  <thead>\n",
       "    <tr style=\"text-align: right;\">\n",
       "      <th></th>\n",
       "      <th>housing_address</th>\n",
       "      <th>housing_room_count</th>\n",
       "      <th>housing_type</th>\n",
       "      <th>housing_price</th>\n",
       "      <th>housing_selling_method</th>\n",
       "      <th>housing_seller_agency</th>\n",
       "      <th>housing_date_sold</th>\n",
       "      <th>housing_cbd_distance</th>\n",
       "      <th>housing_bedroom_count</th>\n",
       "      <th>housing_bathroom_count</th>\n",
       "      <th>...</th>\n",
       "      <th>housing_building_area</th>\n",
       "      <th>housing_year_built</th>\n",
       "      <th>housing_lattitude</th>\n",
       "      <th>housing_longitude</th>\n",
       "      <th>suburb_id</th>\n",
       "      <th>housing_closest_neighborhood_overview</th>\n",
       "      <th>housing_room_segment</th>\n",
       "      <th>housing_bathroom_segment</th>\n",
       "      <th>housing_garage_segment</th>\n",
       "      <th>housing_date_sold_datetime</th>\n",
       "    </tr>\n",
       "  </thead>\n",
       "  <tbody>\n",
       "    <tr>\n",
       "      <th>0</th>\n",
       "      <td>85 Turner St</td>\n",
       "      <td>2</td>\n",
       "      <td>h</td>\n",
       "      <td>1480000.0</td>\n",
       "      <td>S</td>\n",
       "      <td>Biggin</td>\n",
       "      <td>3/12/2016</td>\n",
       "      <td>2.5</td>\n",
       "      <td>2.0</td>\n",
       "      <td>1.0</td>\n",
       "      <td>...</td>\n",
       "      <td>NaN</td>\n",
       "      <td>NaN</td>\n",
       "      <td>-37.7996</td>\n",
       "      <td>144.9984</td>\n",
       "      <td>0</td>\n",
       "      <td>Neighbourhood is quiet but super close to the ...</td>\n",
       "      <td>(1, 2]</td>\n",
       "      <td>(0, 1]</td>\n",
       "      <td>(0, 1]</td>\n",
       "      <td>2016-03</td>\n",
       "    </tr>\n",
       "    <tr>\n",
       "      <th>1</th>\n",
       "      <td>25 Bloomburg St</td>\n",
       "      <td>2</td>\n",
       "      <td>h</td>\n",
       "      <td>1035000.0</td>\n",
       "      <td>S</td>\n",
       "      <td>Biggin</td>\n",
       "      <td>4/02/2016</td>\n",
       "      <td>2.5</td>\n",
       "      <td>2.0</td>\n",
       "      <td>1.0</td>\n",
       "      <td>...</td>\n",
       "      <td>79.0</td>\n",
       "      <td>1900.0</td>\n",
       "      <td>-37.8079</td>\n",
       "      <td>144.9934</td>\n",
       "      <td>0</td>\n",
       "      <td>Abbotsford is a small, leafy, inner city subur...</td>\n",
       "      <td>(1, 2]</td>\n",
       "      <td>(0, 1]</td>\n",
       "      <td>(-1, 0]</td>\n",
       "      <td>2016-04</td>\n",
       "    </tr>\n",
       "    <tr>\n",
       "      <th>2</th>\n",
       "      <td>5 Charles St</td>\n",
       "      <td>3</td>\n",
       "      <td>h</td>\n",
       "      <td>1465000.0</td>\n",
       "      <td>SP</td>\n",
       "      <td>Biggin</td>\n",
       "      <td>4/03/2017</td>\n",
       "      <td>2.5</td>\n",
       "      <td>3.0</td>\n",
       "      <td>2.0</td>\n",
       "      <td>...</td>\n",
       "      <td>150.0</td>\n",
       "      <td>1900.0</td>\n",
       "      <td>-37.8093</td>\n",
       "      <td>144.9944</td>\n",
       "      <td>0</td>\n",
       "      <td>One thing I often get is people don't realize ...</td>\n",
       "      <td>(2, 3]</td>\n",
       "      <td>(1, 2]</td>\n",
       "      <td>(-1, 0]</td>\n",
       "      <td>2017-04</td>\n",
       "    </tr>\n",
       "  </tbody>\n",
       "</table>\n",
       "<p>3 rows × 22 columns</p>\n",
       "</div>"
      ],
      "text/plain": [
       "   housing_address  housing_room_count housing_type  housing_price  \\\n",
       "0     85 Turner St                   2            h      1480000.0   \n",
       "1  25 Bloomburg St                   2            h      1035000.0   \n",
       "2     5 Charles St                   3            h      1465000.0   \n",
       "\n",
       "  housing_selling_method housing_seller_agency housing_date_sold  \\\n",
       "0                      S                Biggin         3/12/2016   \n",
       "1                      S                Biggin         4/02/2016   \n",
       "2                     SP                Biggin         4/03/2017   \n",
       "\n",
       "   housing_cbd_distance  housing_bedroom_count  housing_bathroom_count  ...  \\\n",
       "0                   2.5                    2.0                     1.0  ...   \n",
       "1                   2.5                    2.0                     1.0  ...   \n",
       "2                   2.5                    3.0                     2.0  ...   \n",
       "\n",
       "   housing_building_area  housing_year_built  housing_lattitude  \\\n",
       "0                    NaN                 NaN           -37.7996   \n",
       "1                   79.0              1900.0           -37.8079   \n",
       "2                  150.0              1900.0           -37.8093   \n",
       "\n",
       "   housing_longitude  suburb_id  \\\n",
       "0           144.9984          0   \n",
       "1           144.9934          0   \n",
       "2           144.9944          0   \n",
       "\n",
       "               housing_closest_neighborhood_overview  housing_room_segment  \\\n",
       "0  Neighbourhood is quiet but super close to the ...                (1, 2]   \n",
       "1  Abbotsford is a small, leafy, inner city subur...                (1, 2]   \n",
       "2  One thing I often get is people don't realize ...                (2, 3]   \n",
       "\n",
       "  housing_bathroom_segment housing_garage_segment housing_date_sold_datetime  \n",
       "0                   (0, 1]                 (0, 1]                    2016-03  \n",
       "1                   (0, 1]                (-1, 0]                    2016-04  \n",
       "2                   (1, 2]                (-1, 0]                    2017-04  \n",
       "\n",
       "[3 rows x 22 columns]"
      ]
     },
     "execution_count": 2,
     "metadata": {},
     "output_type": "execute_result"
    }
   ],
   "source": [
    "melb_df = pandas.read_csv('../data/melb_housing_df.csv')\n",
    "melb_df[:3]"
   ]
  },
  {
   "cell_type": "code",
   "execution_count": 5,
   "metadata": {},
   "outputs": [
    {
     "data": {
      "text/plain": [
       "Index(['housing_address', 'housing_room_count', 'housing_type',\n",
       "       'housing_price', 'housing_selling_method', 'housing_seller_agency',\n",
       "       'housing_date_sold', 'housing_cbd_distance', 'housing_bedroom_count',\n",
       "       'housing_bathroom_count', 'housing_garage_count', 'housing_land_size',\n",
       "       'housing_building_area', 'housing_year_built', 'housing_lattitude',\n",
       "       'housing_longitude', 'suburb_id',\n",
       "       'housing_closest_neighborhood_overview', 'housing_room_segment',\n",
       "       'housing_bathroom_segment', 'housing_garage_segment',\n",
       "       'housing_date_sold_datetime'],\n",
       "      dtype='object')"
      ]
     },
     "execution_count": 5,
     "metadata": {},
     "output_type": "execute_result"
    }
   ],
   "source": [
    "melb_df.columns"
   ]
  },
  {
   "cell_type": "markdown",
   "metadata": {},
   "source": [
    "## Encoding non-numerical values\n",
    "\n",
    "So far we have performed data analysis on different types of random variables. However, many methods used for *Machine Learning* can only be applied to numerical arrays.\n",
    "\n",
    "Therefore, before starting any kind of modeling, we have to **encode** all the categorical information using only numerical information. When doing this process we have to take into account some properties that our encoded data will have, and how they will impact the models."
   ]
  },
  {
   "cell_type": "markdown",
   "metadata": {},
   "source": [
    "### One-hot encodings\n",
    "\n",
    "The simplest way to do this encoding of categorical values ​​is to build a One-Hot encoding vector. It operates as follows:\n",
    "\n",
    "1. The set $C$ of possible categories of the random variable is identified and the number of categories $N = |C|$\n",
    "2. An integer is assigned to each category in the range $[0; N)$.\n",
    "3. For each value $r_i$ of our data set with category $c_j$:\n",
    "\n",
    "  1. A vector $x_i$ of 0s of size $N$ is constructed.\n",
    "  2. The value 1 is assigned to the vector $x_i$ at the category position $c_j$.\n",
    "\n",
    "We will start working with the scikit-learn library, which has most of the functions necessary to pre-process a data set and has tutorials that explain the different options. We recommend the [Encoding Categorical Features](https://scikit-learn.org/stable/modules/preprocessing.html#encoding-categorical-features) section.\n",
    "\n",
    "We will use the *OneHotEncoder* class to do the encoding. All scikit-learn transformers follow the same two-stage interface: `fit` and `transform`.\n",
    "* The `fit` method (train) is responsible for collecting all the information necessary to apply the encoding. In this case, implement steps 1 and 2 of the previous algorithm.\n",
    "* The `transform` method is the one that actually builds the encodings for each row of the dataset."
   ]
  },
  {
   "cell_type": "code",
   "execution_count": 3,
   "metadata": {},
   "outputs": [
    {
     "data": {
      "text/html": [
       "<div>\n",
       "<style scoped>\n",
       "    .dataframe tbody tr th:only-of-type {\n",
       "        vertical-align: middle;\n",
       "    }\n",
       "\n",
       "    .dataframe tbody tr th {\n",
       "        vertical-align: top;\n",
       "    }\n",
       "\n",
       "    .dataframe thead th {\n",
       "        text-align: right;\n",
       "    }\n",
       "</style>\n",
       "<table border=\"1\" class=\"dataframe\">\n",
       "  <thead>\n",
       "    <tr style=\"text-align: right;\">\n",
       "      <th></th>\n",
       "      <th>housing_type</th>\n",
       "    </tr>\n",
       "  </thead>\n",
       "  <tbody>\n",
       "    <tr>\n",
       "      <th>0</th>\n",
       "      <td>h</td>\n",
       "    </tr>\n",
       "    <tr>\n",
       "      <th>1</th>\n",
       "      <td>h</td>\n",
       "    </tr>\n",
       "    <tr>\n",
       "      <th>2</th>\n",
       "      <td>h</td>\n",
       "    </tr>\n",
       "    <tr>\n",
       "      <th>3</th>\n",
       "      <td>h</td>\n",
       "    </tr>\n",
       "    <tr>\n",
       "      <th>4</th>\n",
       "      <td>h</td>\n",
       "    </tr>\n",
       "    <tr>\n",
       "      <th>...</th>\n",
       "      <td>...</td>\n",
       "    </tr>\n",
       "    <tr>\n",
       "      <th>13201</th>\n",
       "      <td>h</td>\n",
       "    </tr>\n",
       "    <tr>\n",
       "      <th>13202</th>\n",
       "      <td>h</td>\n",
       "    </tr>\n",
       "    <tr>\n",
       "      <th>13203</th>\n",
       "      <td>h</td>\n",
       "    </tr>\n",
       "    <tr>\n",
       "      <th>13204</th>\n",
       "      <td>h</td>\n",
       "    </tr>\n",
       "    <tr>\n",
       "      <th>13205</th>\n",
       "      <td>h</td>\n",
       "    </tr>\n",
       "  </tbody>\n",
       "</table>\n",
       "<p>13206 rows × 1 columns</p>\n",
       "</div>"
      ],
      "text/plain": [
       "      housing_type\n",
       "0                h\n",
       "1                h\n",
       "2                h\n",
       "3                h\n",
       "4                h\n",
       "...            ...\n",
       "13201            h\n",
       "13202            h\n",
       "13203            h\n",
       "13204            h\n",
       "13205            h\n",
       "\n",
       "[13206 rows x 1 columns]"
      ]
     },
     "execution_count": 3,
     "metadata": {},
     "output_type": "execute_result"
    }
   ],
   "source": [
    "melb_df[['housing_type']]"
   ]
  },
  {
   "cell_type": "code",
   "execution_count": 6,
   "metadata": {},
   "outputs": [
    {
     "data": {
      "text/plain": [
       "[array(['h', 't', 'u'], dtype=object),\n",
       " array(['PI', 'S', 'SA', 'SP', 'VB'], dtype=object)]"
      ]
     },
     "execution_count": 6,
     "metadata": {},
     "output_type": "execute_result"
    }
   ],
   "source": [
    "from sklearn.preprocessing import OneHotEncoder\n",
    "\n",
    "encoder = OneHotEncoder(sparse=False)\n",
    "encoder.fit(melb_df[['housing_type', 'housing_selling_method']])\n",
    "# We can inspect the categories found by the encoder\n",
    "encoder.categories_"
   ]
  },
  {
   "cell_type": "code",
   "execution_count": 8,
   "metadata": {},
   "outputs": [
    {
     "data": {
      "text/plain": [
       "array([[1., 0., 0., 0., 1., 0., 0., 0.],\n",
       "       [1., 0., 0., 0., 1., 0., 0., 0.],\n",
       "       [1., 0., 0., 0., 0., 0., 1., 0.],\n",
       "       [1., 0., 0., 1., 0., 0., 0., 0.],\n",
       "       [1., 0., 0., 0., 0., 0., 0., 1.],\n",
       "       [1., 0., 0., 0., 1., 0., 0., 0.],\n",
       "       [1., 0., 0., 0., 1., 0., 0., 0.],\n",
       "       [1., 0., 0., 0., 1., 0., 0., 0.],\n",
       "       [0., 0., 1., 0., 1., 0., 0., 0.],\n",
       "       [1., 0., 0., 0., 1., 0., 0., 0.]])"
      ]
     },
     "execution_count": 8,
     "metadata": {},
     "output_type": "execute_result"
    }
   ],
   "source": [
    "encoded_types = encoder.transform(melb_df[['housing_type', 'housing_selling_method']])\n",
    "encoded_types[:10]"
   ]
  },
  {
   "cell_type": "code",
   "execution_count": 9,
   "metadata": {},
   "outputs": [
    {
     "data": {
      "text/plain": [
       "(10, 8)"
      ]
     },
     "execution_count": 9,
     "metadata": {},
     "output_type": "execute_result"
    }
   ],
   "source": [
    "encoded_types[:10].shape"
   ]
  },
  {
   "cell_type": "markdown",
   "metadata": {},
   "source": [
    "This transformation is so common that Scikit-lean implements the `DictVectorizer` transformer which automatically encodes all categorical columns and combines them with the existing numeric data.\n",
    "\n",
    "In order to use it, we will need to convert the dataset into a list of dictionaries."
   ]
  },
  {
   "cell_type": "code",
   "execution_count": 10,
   "metadata": {},
   "outputs": [
    {
     "data": {
      "text/plain": [
       "[{'housing_type': 'h',\n",
       "  'housing_selling_method': 'S',\n",
       "  'housing_room_count': 2,\n",
       "  'housing_bedroom_count': 2.0},\n",
       " {'housing_type': 'h',\n",
       "  'housing_selling_method': 'S',\n",
       "  'housing_room_count': 2,\n",
       "  'housing_bedroom_count': 2.0}]"
      ]
     },
     "execution_count": 10,
     "metadata": {},
     "output_type": "execute_result"
    }
   ],
   "source": [
    "feature_cols = ['housing_type', 'housing_selling_method', 'housing_room_count', 'housing_bedroom_count']\n",
    "feature_dict = list(melb_df[feature_cols].T.to_dict().values())\n",
    "feature_dict[:2]"
   ]
  },
  {
   "cell_type": "code",
   "execution_count": 11,
   "metadata": {},
   "outputs": [],
   "source": [
    "from sklearn.feature_extraction import DictVectorizer\n",
    "vec = DictVectorizer()\n",
    "feature_matrix = vec.fit_transform(feature_dict)"
   ]
  },
  {
   "cell_type": "code",
   "execution_count": 12,
   "metadata": {},
   "outputs": [
    {
     "data": {
      "text/plain": [
       "matrix([[2., 2., 0., ..., 1., 0., 0.],\n",
       "        [2., 2., 0., ..., 1., 0., 0.],\n",
       "        [3., 3., 0., ..., 1., 0., 0.],\n",
       "        ...,\n",
       "        [3., 3., 0., ..., 1., 0., 0.],\n",
       "        [4., 4., 1., ..., 1., 0., 0.],\n",
       "        [4., 4., 0., ..., 1., 0., 0.]])"
      ]
     },
     "execution_count": 12,
     "metadata": {},
     "output_type": "execute_result"
    }
   ],
   "source": [
    "feature_matrix.todense()"
   ]
  },
  {
   "cell_type": "code",
   "execution_count": 13,
   "metadata": {},
   "outputs": [
    {
     "data": {
      "text/plain": [
       "array(['housing_bedroom_count', 'housing_room_count',\n",
       "       'housing_selling_method=PI', 'housing_selling_method=S',\n",
       "       'housing_selling_method=SA', 'housing_selling_method=SP',\n",
       "       'housing_selling_method=VB', 'housing_type=h', 'housing_type=t',\n",
       "       'housing_type=u'], dtype=object)"
      ]
     },
     "execution_count": 13,
     "metadata": {},
     "output_type": "execute_result"
    }
   ],
   "source": [
    "vec.get_feature_names_out()[:10]"
   ]
  },
  {
   "cell_type": "markdown",
   "metadata": {},
   "source": [
    "## sparse arrays\n",
    "\n",
    "One-hot encodings have the property of increasing the amount of memory required to store a variable **quadratically** with respect to the number of categories. However, most elements of the new representation will be null. The number of non-zero elements in the matrix grows **linearly** with respect to the number of categories to represent.\n",
    "\n",
    "That is why there are *sparse arrays*, which store only the non-null values of an array in different data structures.\n",
    "\n",
    "Encoding methods like `DictVectorizer` or `OneHotEncoding` usually return sparse arrays if it is more efficient in terms of computational resources."
   ]
  },
  {
   "cell_type": "markdown",
   "metadata": {},
   "source": [
    "![picture](https://matteding.github.io/images/coo.gif)"
   ]
  },
  {
   "cell_type": "markdown",
   "metadata": {},
   "source": [
    "There are [different types of sparse matrices](https://docs.scipy.org/doc/scipy/reference/sparse.html) and the operations on each of them are different; and different from dense matrices."
   ]
  },
  {
   "cell_type": "code",
   "execution_count": 14,
   "metadata": {},
   "outputs": [],
   "source": [
    "# Fill nan values on sparse matrix.\n",
    "if numpy.any(numpy.isnan(feature_matrix.data)):\n",
    "  feature_matrix.data = numpy.nan_to_num(feature_matrix.data)"
   ]
  },
  {
   "cell_type": "markdown",
   "metadata": {},
   "source": [
    "To apply some transformations or models it is necessary to convert the sparse matrices to dense ones. Before making this change, it is recommended to calculate the size of the final array. Remember that each floating point number occupies 4 bytes for single precision (numpy.float32) and 8 bytes for double precision (numpy.float64)."
   ]
  },
  {
   "cell_type": "code",
   "execution_count": 16,
   "metadata": {},
   "outputs": [
    {
     "name": "stdout",
     "output_type": "stream",
     "text": [
      "The dense matrix will weight approximately 0.50 MB\n",
      "Final size: 0.50\n"
     ]
    }
   ],
   "source": [
    "# Before doing this type of conversion, it's mandatory to calculate the\n",
    "# size of the resulting matrix!\n",
    "matrix_size_mb = feature_matrix.shape[0] * feature_matrix.shape[1] * 4 / 1024 / 1024\n",
    "print(\"The dense matrix will weight approximately {:.2f} MB\".format(matrix_size_mb))\n",
    "\n",
    "limit_size_mb = 10\n",
    "precision_type = numpy.float32\n",
    "if matrix_size_mb < limit_size_mb:  # Matrix is less than 10MB\n",
    "    dense_feature_matrix = feature_matrix.astype(precision_type).todense()\n",
    "else:\n",
    "    # We calculate how many rows would fit given the number of columns\n",
    "    n_rows = int(limit_size_mb *1024 * 1024 / 4 / feature_matrix.shape[1])\n",
    "    print(\"Matrix too big! Using only first {} of {} rows\".format(\n",
    "        n_rows, feature_matrix.shape[0]))\n",
    "    dense_feature_matrix = feature_matrix[:n_rows].astype(precision_type).todense()\n",
    "\n",
    "print(\"Final size: {:.2f}\".format(dense_feature_matrix.nbytes / 1024 / 1024))"
   ]
  },
  {
   "cell_type": "code",
   "execution_count": 18,
   "metadata": {},
   "outputs": [],
   "source": [
    "# Remember to cut your original data as well.\n",
    "if dense_feature_matrix.shape[0] < len(melb_df):\n",
    "    melb_df_sample = melb_df.iloc[:dense_feature_matrix.shape[0]]\n",
    "else:\n",
    "    melb_df_sample = melb_df"
   ]
  },
  {
   "cell_type": "markdown",
   "metadata": {},
   "source": [
    "## Exploring free text\n",
    "\n",
    "Unstructured data, such as free text or images, have specific methods to be able to analyze them. In this notebook we will try to understand what kind of information neighborhood descriptions give us, and if it can be useful in our price prediction task."
   ]
  },
  {
   "cell_type": "markdown",
   "metadata": {},
   "source": [
    "It is useful to know how much text we have per instance, to start estimating the amount of information represented and some characteristics of the documents. For example: it is not the same to analyze Tweets as it is to analyze Wikipedia documents."
   ]
  },
  {
   "cell_type": "code",
   "execution_count": 19,
   "metadata": {},
   "outputs": [
    {
     "name": "stderr",
     "output_type": "stream",
     "text": [
      "/user/nocampo/home/miniconda3/envs/phd-corpora/lib/python3.9/site-packages/seaborn/_decorators.py:36: FutureWarning: Pass the following variable as a keyword arg: x. From version 0.12, the only valid positional argument will be `data`, and passing other arguments without an explicit keyword will result in an error or misinterpretation.\n",
      "  warnings.warn(\n"
     ]
    },
    {
     "data": {
      "text/plain": [
       "Text(0.5, 1.0, 'Distribution of number of characters for neighborhood reviews')"
      ]
     },
     "execution_count": 19,
     "metadata": {},
     "output_type": "execute_result"
    },
    {
     "data": {
      "image/png": "[encoded data removed]",
      "text/plain": [
       "<Figure size 576x360 with 1 Axes>"
      ]
     },
     "metadata": {
      "needs_background": "light"
     },
     "output_type": "display_data"
    }
   ],
   "source": [
    "plt.figure(figsize=(8, 5))\n",
    "seaborn.boxplot(melb_df.housing_closest_neighborhood_overview.apply(len))\n",
    "seaborn.despine()\n",
    "plt.title(\"Distribution of number of characters for neighborhood reviews\")"
   ]
  },
  {
   "cell_type": "markdown",
   "metadata": {},
   "source": [
    "## StandardScaler"
   ]
  },
  {
   "cell_type": "markdown",
   "metadata": {},
   "source": [
    "`Sklearn` has a set of implemented classes called `transformers`. Transformers are embeddings (projections) that from receive an input matrix $N \\times M$ and projects this matrix to a new space $N \\times D$. D can less (dimensional reduction), equal (preprocessing/scaling), or higher than M (encodings).\n",
    "\n",
    "`StandardScaler` is a transformer that for a set of input columns, standardize them by removing the mean and dividing by their standard deviation."
   ]
  },
  {
   "cell_type": "code",
   "execution_count": 53,
   "metadata": {},
   "outputs": [
    {
     "data": {
      "text/plain": [
       "StandardScaler()"
      ]
     },
     "execution_count": 53,
     "metadata": {},
     "output_type": "execute_result"
    }
   ],
   "source": [
    "from sklearn.preprocessing import StandardScaler, MinMaxScaler, MaxAbsScaler\n",
    "\n",
    "scaler = StandardScaler()\n",
    "scaler.fit(melb_df[[\"housing_price\"]])"
   ]
  },
  {
   "cell_type": "code",
   "execution_count": 55,
   "metadata": {},
   "outputs": [],
   "source": [
    "melb_df[\"housing_price_scaled\"] = scaler.transform(melb_df[[\"housing_price\"]])"
   ]
  },
  {
   "cell_type": "code",
   "execution_count": 56,
   "metadata": {},
   "outputs": [
    {
     "data": {
      "text/html": [
       "<div>\n",
       "<style scoped>\n",
       "    .dataframe tbody tr th:only-of-type {\n",
       "        vertical-align: middle;\n",
       "    }\n",
       "\n",
       "    .dataframe tbody tr th {\n",
       "        vertical-align: top;\n",
       "    }\n",
       "\n",
       "    .dataframe thead th {\n",
       "        text-align: right;\n",
       "    }\n",
       "</style>\n",
       "<table border=\"1\" class=\"dataframe\">\n",
       "  <thead>\n",
       "    <tr style=\"text-align: right;\">\n",
       "      <th></th>\n",
       "      <th>housing_price</th>\n",
       "      <th>housing_price_scaled</th>\n",
       "    </tr>\n",
       "  </thead>\n",
       "  <tbody>\n",
       "    <tr>\n",
       "      <th>0</th>\n",
       "      <td>1480000.0</td>\n",
       "      <td>0.951425</td>\n",
       "    </tr>\n",
       "    <tr>\n",
       "      <th>1</th>\n",
       "      <td>1035000.0</td>\n",
       "      <td>0.050450</td>\n",
       "    </tr>\n",
       "    <tr>\n",
       "      <th>2</th>\n",
       "      <td>1465000.0</td>\n",
       "      <td>0.921055</td>\n",
       "    </tr>\n",
       "    <tr>\n",
       "      <th>3</th>\n",
       "      <td>850000.0</td>\n",
       "      <td>-0.324113</td>\n",
       "    </tr>\n",
       "    <tr>\n",
       "      <th>4</th>\n",
       "      <td>1600000.0</td>\n",
       "      <td>1.194385</td>\n",
       "    </tr>\n",
       "    <tr>\n",
       "      <th>...</th>\n",
       "      <td>...</td>\n",
       "      <td>...</td>\n",
       "    </tr>\n",
       "    <tr>\n",
       "      <th>13201</th>\n",
       "      <td>1245000.0</td>\n",
       "      <td>0.475629</td>\n",
       "    </tr>\n",
       "    <tr>\n",
       "      <th>13202</th>\n",
       "      <td>1031000.0</td>\n",
       "      <td>0.042351</td>\n",
       "    </tr>\n",
       "    <tr>\n",
       "      <th>13203</th>\n",
       "      <td>1170000.0</td>\n",
       "      <td>0.323779</td>\n",
       "    </tr>\n",
       "    <tr>\n",
       "      <th>13204</th>\n",
       "      <td>2500000.0</td>\n",
       "      <td>3.016583</td>\n",
       "    </tr>\n",
       "    <tr>\n",
       "      <th>13205</th>\n",
       "      <td>1285000.0</td>\n",
       "      <td>0.556616</td>\n",
       "    </tr>\n",
       "  </tbody>\n",
       "</table>\n",
       "<p>13206 rows × 2 columns</p>\n",
       "</div>"
      ],
      "text/plain": [
       "       housing_price  housing_price_scaled\n",
       "0          1480000.0              0.951425\n",
       "1          1035000.0              0.050450\n",
       "2          1465000.0              0.921055\n",
       "3           850000.0             -0.324113\n",
       "4          1600000.0              1.194385\n",
       "...              ...                   ...\n",
       "13201      1245000.0              0.475629\n",
       "13202      1031000.0              0.042351\n",
       "13203      1170000.0              0.323779\n",
       "13204      2500000.0              3.016583\n",
       "13205      1285000.0              0.556616\n",
       "\n",
       "[13206 rows x 2 columns]"
      ]
     },
     "execution_count": 56,
     "metadata": {},
     "output_type": "execute_result"
    }
   ],
   "source": [
    "melb_df[[\"housing_price\", \"housing_price_scaled\"]]"
   ]
  },
  {
   "cell_type": "code",
   "execution_count": 58,
   "metadata": {},
   "outputs": [
    {
     "data": {
      "text/plain": [
       "(-6.432164441471357e-17, 1.000037863728452)"
      ]
     },
     "execution_count": 58,
     "metadata": {},
     "output_type": "execute_result"
    }
   ],
   "source": [
    "melb_df[\"housing_price_scaled\"].mean(axis=0), melb_df[\"housing_price_scaled\"].std(axis=0)"
   ]
  },
  {
   "cell_type": "markdown",
   "metadata": {},
   "source": [
    "## Ordinal Encoding\n",
    "\n",
    "`OrdinalEncoding` receives an ordinal categorical random variable with `N` categories and enumerate them with integers from $0, ... , N-1$.\n",
    "\n",
    "If the random variable has no order it's better to use `OneHotEncoding`. As a demonstration, we are going to use this method with `SellerG` provided that this variable is not ordinal."
   ]
  },
  {
   "cell_type": "code",
   "execution_count": 59,
   "metadata": {},
   "outputs": [
    {
     "data": {
      "text/plain": [
       "OrdinalEncoder()"
      ]
     },
     "execution_count": 59,
     "metadata": {},
     "output_type": "execute_result"
    }
   ],
   "source": [
    "from sklearn.preprocessing import OrdinalEncoder\n",
    "\n",
    "oe = OrdinalEncoder()\n",
    "oe.fit(melb_df[[\"housing_seller_agency\"]])"
   ]
  },
  {
   "cell_type": "markdown",
   "metadata": {},
   "source": [
    "After fitting, you can access the number the enumerated categories."
   ]
  },
  {
   "cell_type": "code",
   "execution_count": 60,
   "metadata": {},
   "outputs": [
    {
     "data": {
      "text/plain": [
       "[array(['68', '@Realty', 'ASL', \"Abercromby's\", 'Ace', 'Alexkarbon',\n",
       "        'Allens', 'Anderson', 'Appleby', 'Aquire', 'Area', 'Ascend', 'Ash',\n",
       "        'Asset', 'Assisi', 'Australian', 'Barlow', 'Barry', 'Bayside',\n",
       "        'Bekdon', 'Beller', 'Bells', 'Besser', 'Better', 'Biggin', 'Blue',\n",
       "        'Boutique', 'Bowman', 'Brace', 'Brad', 'Buckingham', 'Bullen',\n",
       "        'Burnham', 'Buxton', 'Buxton/Advantage', 'Buxton/Find', 'C21',\n",
       "        'CASTRAN', 'Caine', 'Calder', 'Carter', 'Castran', 'Cayzer',\n",
       "        'Century', 'Chambers', 'Changing', 'Charlton', 'Chisholm',\n",
       "        'Christopher', 'Clairmont', 'Collins', 'Community', 'Compton',\n",
       "        'Conquest', 'Considine', 'Coventry', 'Craig', 'Crane', \"D'Aprano\",\n",
       "        'Daniel', 'Darren', 'David', 'Del', 'Dingle', 'Direct', 'Dixon',\n",
       "        'Domain', 'Douglas', 'Edward', 'Elite', 'Eview', 'FN', 'First',\n",
       "        'Fletchers', 'Fletchers/One', 'Follett', 'Frank', 'Free', 'GL',\n",
       "        'Galldon', 'Gardiner', 'Garvey', 'Gary', 'Geoff', 'Grantham',\n",
       "        'Greg', 'Gunn&Co', 'HAR', 'Hall', 'Ham', 'Harcourts', 'Harrington',\n",
       "        'Haughton', 'Hayeswinckle', 'Hodges', 'Holland', 'Homes', 'Hooper',\n",
       "        'Hoskins', 'Hunter', 'Iconek', 'J', 'JMRE', 'JRW', 'Jas', 'Jason',\n",
       "        'Jellis', 'Jim', 'Joe', 'Johnston', 'Joseph', 'Kay', 'Kaye',\n",
       "        'Keatings', 'Kelly', 'Ken', 'L', 'LITTLE', 'LJ', 'LLC', 'Langwell',\n",
       "        'Le', 'Leading', 'Leased', 'Leeburn', 'Leyton', 'Lindellas',\n",
       "        'Love', 'Lucas', 'Luxe', 'Luxton', 'M.J', 'MICM', 'Maddison',\n",
       "        'Mandy', 'Marshall', 'Mason', 'Matthew', 'Max', 'McDonald',\n",
       "        'McGrath', 'McLennan', 'McNaughton', 'Meadows', 'Metro', 'Miles',\n",
       "        'Millership', 'Mindacom', 'Mitchell', 'Moonee', 'Morleys',\n",
       "        'Morrison', 'Naison', 'Nardella', 'Nelson', 'New', 'Nguyen',\n",
       "        'Nicholls', 'Nicholson', 'Nick', 'Noel', 'North', \"O'Brien\",\n",
       "        \"O'Donoghues\", 'Oak', 'Obrien', 'One', 'Only', 'Oriental', 'Owen',\n",
       "        'PRD', 'PRDNationwide', 'Pagan', 'Parkes', 'Parkinson', 'Paul',\n",
       "        'Peake', 'Peter', 'Philip', 'Point', 'Pride', 'Prime',\n",
       "        \"Private/Tiernan's\", 'Prof.', 'Property', 'Propertyau', 'Prowse',\n",
       "        'Purplebricks', 'R&H', 'RE', 'REMAX', 'RT', 'RW', 'Raine',\n",
       "        'Raine&Horne', 'Ray', 'Re', 'Reach', 'Real', 'Red', 'Redina',\n",
       "        'Reed', 'Reliance', 'Rendina', 'Rexhepi', 'Ristic', 'Rodney',\n",
       "        'Roger', 'Rosin', 'Ross', 'Rounds', 'Ryder', 'S&L', 'SN',\n",
       "        'Schroeder', 'Scott', 'Sell', 'Smart', \"Sotheby's\", 'Steveway',\n",
       "        'Stockdale', 'Sweeney', 'Sweeney/Advantage', 'TRUE', 'The',\n",
       "        'Thomas', 'Thomson', \"Tiernan's\", 'Tim', 'Trimson', 'Triwest', 'U',\n",
       "        'Upper', 'VICPROP', 'VICProp', 'Veitch', 'Vic', 'Victory',\n",
       "        'Village', 'W.B.', 'WHITEFOX', 'Walsh', 'Walshe', 'Weda', 'Weston',\n",
       "        'Westside', 'White', 'Whiting', 'William', 'Williams', 'Wilson',\n",
       "        'Win', 'Wood', 'Woodards', 'Xynergy', 'YPA', 'Zahn', 'buyMyplace',\n",
       "        'hockingstuart', 'hockingstuart/Advantage', 'hockingstuart/Barry',\n",
       "        'hockingstuart/Village', 'iOne', 'iProperty', 'iSell', 'iTRAK'],\n",
       "       dtype=object)]"
      ]
     },
     "execution_count": 60,
     "metadata": {},
     "output_type": "execute_result"
    }
   ],
   "source": [
    "oe.categories_"
   ]
  },
  {
   "cell_type": "code",
   "execution_count": 61,
   "metadata": {},
   "outputs": [],
   "source": [
    "melb_df[\"housing_seller_agency_enc\"] = oe.transform(melb_df[[\"housing_seller_agency\"]])"
   ]
  },
  {
   "cell_type": "code",
   "execution_count": 62,
   "metadata": {},
   "outputs": [
    {
     "data": {
      "text/plain": [
       "154.0    1554\n",
       "106.0    1240\n",
       "258.0    1152\n",
       "17.0     1011\n",
       "195.0     699\n",
       "         ... \n",
       "49.0        1\n",
       "128.0       1\n",
       "185.0       1\n",
       "35.0        1\n",
       "179.0       1\n",
       "Name: housing_seller_agency_enc, Length: 266, dtype: int64"
      ]
     },
     "execution_count": 62,
     "metadata": {},
     "output_type": "execute_result"
    }
   ],
   "source": [
    "melb_df[\"housing_seller_agency_enc\"].value_counts()"
   ]
  },
  {
   "cell_type": "markdown",
   "metadata": {},
   "source": [
    "You can also obtain the categories given the enumeration with `inverse_transform`."
   ]
  },
  {
   "cell_type": "code",
   "execution_count": 64,
   "metadata": {},
   "outputs": [
    {
     "data": {
      "text/plain": [
       "array([['Biggin'],\n",
       "       ['Biggin'],\n",
       "       ['Biggin'],\n",
       "       ...,\n",
       "       ['Raine'],\n",
       "       ['Sweeney'],\n",
       "       ['Village']], dtype=object)"
      ]
     },
     "execution_count": 64,
     "metadata": {},
     "output_type": "execute_result"
    }
   ],
   "source": [
    "oe.inverse_transform(melb_df[[\"housing_seller_agency_enc\"]])"
   ]
  },
  {
   "cell_type": "markdown",
   "metadata": {},
   "source": []
  },
  {
   "cell_type": "markdown",
   "metadata": {},
   "source": [
    "## Discretizers"
   ]
  },
  {
   "cell_type": "markdown",
   "metadata": {},
   "source": [
    "Discretization provides a way to partition continuous features into discrete values. Discretized features can make a model more expressive, while maintaining interpretability.\n",
    "\n",
    "Sklearn implementation is through the class `KBinsDiscretizer` where the output is one-hot encoded into a sparse matrix."
   ]
  },
  {
   "cell_type": "code",
   "execution_count": 65,
   "metadata": {},
   "outputs": [],
   "source": [
    "from sklearn.preprocessing import KBinsDiscretizer"
   ]
  },
  {
   "cell_type": "markdown",
   "metadata": {},
   "source": [
    "Let's suppose that we want to discretize the columns `Price` and `Rooms`. The first column we want to create 3 segments and for the second one only 2 segments. To do so, we make an instance of the class `KBinsDiscretizer` with the parameter `n_bins`. `n_bins` takes a list of integers where each element represents the number of segments. In this case `n_bins=[3, 2]`. Then, attribute `encode='ordinal'` tells the discretizer to enumerate each segment with an identifier."
   ]
  },
  {
   "cell_type": "code",
   "execution_count": 67,
   "metadata": {},
   "outputs": [],
   "source": [
    "kbe = KBinsDiscretizer(n_bins=[3, 2], encode='ordinal')"
   ]
  },
  {
   "cell_type": "code",
   "execution_count": 68,
   "metadata": {},
   "outputs": [
    {
     "data": {
      "text/plain": [
       "KBinsDiscretizer(encode='ordinal', n_bins=[3, 2])"
      ]
     },
     "execution_count": 68,
     "metadata": {},
     "output_type": "execute_result"
    }
   ],
   "source": [
    "kbe.fit(melb_df[[\"housing_price\", \"housing_room_count\"]])"
   ]
  },
  {
   "cell_type": "markdown",
   "metadata": {},
   "source": [
    "kbe.fit(melb_df[[\"Price\", \"Rooms\"]])\n",
    "The new segments are:\n",
    "\n",
    "`Price`: `[85000, 730000), [730000, 1180000), [1180000, 9000000)`\n",
    "\n",
    "`Rooms`: `[1, 3), [3, 10)`\n",
    "\n",
    "Then, each segment is enumerated with an identifier.\n",
    "\n",
    "`Price`: `[85000, 730000) -> 0, [730000, 1180000) -> 1, [1180000, 9000000) -> 2`\n",
    "\n",
    "`Rooms`: `[1, 3) -> 0, [3, 10) -> 1`\n",
    "\n",
    "Finally, we use the identifiers as the encoding.\n"
   ]
  },
  {
   "cell_type": "code",
   "execution_count": 69,
   "metadata": {},
   "outputs": [
    {
     "data": {
      "text/plain": [
       "array([array([  85000.,  720000., 1135000., 2670000.]),\n",
       "       array([ 1.,  3., 10.])], dtype=object)"
      ]
     },
     "execution_count": 69,
     "metadata": {},
     "output_type": "execute_result"
    }
   ],
   "source": [
    "kbe.bin_edges_"
   ]
  },
  {
   "cell_type": "code",
   "execution_count": 70,
   "metadata": {},
   "outputs": [],
   "source": [
    "melb_df[[\"housing_price_discretized\", \"housing_room_count_discretized\"]] = kbe.transform(melb_df[[\"housing_price\", \"housing_room_count\"]])"
   ]
  },
  {
   "cell_type": "code",
   "execution_count": 71,
   "metadata": {},
   "outputs": [
    {
     "data": {
      "text/html": [
       "<div>\n",
       "<style scoped>\n",
       "    .dataframe tbody tr th:only-of-type {\n",
       "        vertical-align: middle;\n",
       "    }\n",
       "\n",
       "    .dataframe tbody tr th {\n",
       "        vertical-align: top;\n",
       "    }\n",
       "\n",
       "    .dataframe thead th {\n",
       "        text-align: right;\n",
       "    }\n",
       "</style>\n",
       "<table border=\"1\" class=\"dataframe\">\n",
       "  <thead>\n",
       "    <tr style=\"text-align: right;\">\n",
       "      <th></th>\n",
       "      <th>housing_price_discretized</th>\n",
       "      <th>housing_room_count_discretized</th>\n",
       "    </tr>\n",
       "  </thead>\n",
       "  <tbody>\n",
       "    <tr>\n",
       "      <th>0</th>\n",
       "      <td>2.0</td>\n",
       "      <td>0.0</td>\n",
       "    </tr>\n",
       "    <tr>\n",
       "      <th>1</th>\n",
       "      <td>1.0</td>\n",
       "      <td>0.0</td>\n",
       "    </tr>\n",
       "    <tr>\n",
       "      <th>2</th>\n",
       "      <td>2.0</td>\n",
       "      <td>1.0</td>\n",
       "    </tr>\n",
       "    <tr>\n",
       "      <th>3</th>\n",
       "      <td>1.0</td>\n",
       "      <td>1.0</td>\n",
       "    </tr>\n",
       "    <tr>\n",
       "      <th>4</th>\n",
       "      <td>2.0</td>\n",
       "      <td>1.0</td>\n",
       "    </tr>\n",
       "    <tr>\n",
       "      <th>...</th>\n",
       "      <td>...</td>\n",
       "      <td>...</td>\n",
       "    </tr>\n",
       "    <tr>\n",
       "      <th>13201</th>\n",
       "      <td>2.0</td>\n",
       "      <td>1.0</td>\n",
       "    </tr>\n",
       "    <tr>\n",
       "      <th>13202</th>\n",
       "      <td>1.0</td>\n",
       "      <td>1.0</td>\n",
       "    </tr>\n",
       "    <tr>\n",
       "      <th>13203</th>\n",
       "      <td>2.0</td>\n",
       "      <td>1.0</td>\n",
       "    </tr>\n",
       "    <tr>\n",
       "      <th>13204</th>\n",
       "      <td>2.0</td>\n",
       "      <td>1.0</td>\n",
       "    </tr>\n",
       "    <tr>\n",
       "      <th>13205</th>\n",
       "      <td>2.0</td>\n",
       "      <td>1.0</td>\n",
       "    </tr>\n",
       "  </tbody>\n",
       "</table>\n",
       "<p>13206 rows × 2 columns</p>\n",
       "</div>"
      ],
      "text/plain": [
       "       housing_price_discretized  housing_room_count_discretized\n",
       "0                            2.0                             0.0\n",
       "1                            1.0                             0.0\n",
       "2                            2.0                             1.0\n",
       "3                            1.0                             1.0\n",
       "4                            2.0                             1.0\n",
       "...                          ...                             ...\n",
       "13201                        2.0                             1.0\n",
       "13202                        1.0                             1.0\n",
       "13203                        2.0                             1.0\n",
       "13204                        2.0                             1.0\n",
       "13205                        2.0                             1.0\n",
       "\n",
       "[13206 rows x 2 columns]"
      ]
     },
     "execution_count": 71,
     "metadata": {},
     "output_type": "execute_result"
    }
   ],
   "source": [
    "melb_df[[\"housing_price_discretized\", \"housing_room_count_discretized\"]]"
   ]
  },
  {
   "cell_type": "markdown",
   "metadata": {},
   "source": [
    "## Polynomial Features"
   ]
  },
  {
   "cell_type": "code",
   "execution_count": 72,
   "metadata": {},
   "outputs": [
    {
     "data": {
      "text/plain": [
       "PolynomialFeatures(degree=4)"
      ]
     },
     "execution_count": 72,
     "metadata": {},
     "output_type": "execute_result"
    }
   ],
   "source": [
    "from sklearn.preprocessing import PolynomialFeatures\n",
    "\n",
    "poly = PolynomialFeatures(4)\n",
    "poly.fit(melb_df[[\"housing_price\", \"housing_cbd_distance\"]])"
   ]
  },
  {
   "cell_type": "code",
   "execution_count": 73,
   "metadata": {},
   "outputs": [],
   "source": [
    "poly_features = poly.transform(melb_df[[\"housing_price\", \"housing_cbd_distance\"]])"
   ]
  },
  {
   "cell_type": "code",
   "execution_count": 74,
   "metadata": {},
   "outputs": [
    {
     "data": {
      "text/plain": [
       "(13206, 15)"
      ]
     },
     "execution_count": 74,
     "metadata": {},
     "output_type": "execute_result"
    }
   ],
   "source": [
    "poly_features.shape"
   ]
  },
  {
   "cell_type": "markdown",
   "metadata": {},
   "source": [
    "## Pipelines"
   ]
  },
  {
   "cell_type": "code",
   "execution_count": 75,
   "metadata": {},
   "outputs": [],
   "source": [
    "melb_df[\"label\"] = (melb_df[\"housing_price\"] > 1000000).replace({True: 1, False: 0})"
   ]
  },
  {
   "cell_type": "code",
   "execution_count": 76,
   "metadata": {},
   "outputs": [
    {
     "data": {
      "text/plain": [
       "0    7837\n",
       "1    5369\n",
       "Name: label, dtype: int64"
      ]
     },
     "execution_count": 76,
     "metadata": {},
     "output_type": "execute_result"
    }
   ],
   "source": [
    "melb_df[\"label\"].value_counts()"
   ]
  },
  {
   "cell_type": "code",
   "execution_count": 77,
   "metadata": {},
   "outputs": [
    {
     "data": {
      "text/plain": [
       "Index(['housing_address', 'housing_room_count', 'housing_type',\n",
       "       'housing_price', 'housing_selling_method', 'housing_seller_agency',\n",
       "       'housing_date_sold', 'housing_cbd_distance', 'housing_bedroom_count',\n",
       "       'housing_bathroom_count', 'housing_garage_count', 'housing_land_size',\n",
       "       'housing_building_area', 'housing_year_built', 'housing_lattitude',\n",
       "       'housing_longitude', 'suburb_id',\n",
       "       'housing_closest_neighborhood_overview', 'housing_room_segment',\n",
       "       'housing_bathroom_segment', 'housing_garage_segment',\n",
       "       'housing_date_sold_datetime', 'housing_price_scaled',\n",
       "       'housing_seller_agency_enc', 'housing_price_discretized',\n",
       "       'housing_room_count_discretized', 'label'],\n",
       "      dtype='object')"
      ]
     },
     "execution_count": 77,
     "metadata": {},
     "output_type": "execute_result"
    }
   ],
   "source": [
    "melb_df.columns"
   ]
  },
  {
   "cell_type": "code",
   "execution_count": 78,
   "metadata": {},
   "outputs": [],
   "source": [
    "X, y = melb_df[[\"housing_room_count\", \"housing_type\", \"housing_selling_method\", \"housing_cbd_distance\"]], melb_df[\"label\"]"
   ]
  },
  {
   "cell_type": "code",
   "execution_count": 79,
   "metadata": {},
   "outputs": [
    {
     "data": {
      "text/html": [
       "<div>\n",
       "<style scoped>\n",
       "    .dataframe tbody tr th:only-of-type {\n",
       "        vertical-align: middle;\n",
       "    }\n",
       "\n",
       "    .dataframe tbody tr th {\n",
       "        vertical-align: top;\n",
       "    }\n",
       "\n",
       "    .dataframe thead th {\n",
       "        text-align: right;\n",
       "    }\n",
       "</style>\n",
       "<table border=\"1\" class=\"dataframe\">\n",
       "  <thead>\n",
       "    <tr style=\"text-align: right;\">\n",
       "      <th></th>\n",
       "      <th>housing_room_count</th>\n",
       "      <th>housing_type</th>\n",
       "      <th>housing_selling_method</th>\n",
       "      <th>housing_cbd_distance</th>\n",
       "    </tr>\n",
       "  </thead>\n",
       "  <tbody>\n",
       "    <tr>\n",
       "      <th>0</th>\n",
       "      <td>2</td>\n",
       "      <td>h</td>\n",
       "      <td>S</td>\n",
       "      <td>2.5</td>\n",
       "    </tr>\n",
       "    <tr>\n",
       "      <th>1</th>\n",
       "      <td>2</td>\n",
       "      <td>h</td>\n",
       "      <td>S</td>\n",
       "      <td>2.5</td>\n",
       "    </tr>\n",
       "    <tr>\n",
       "      <th>2</th>\n",
       "      <td>3</td>\n",
       "      <td>h</td>\n",
       "      <td>SP</td>\n",
       "      <td>2.5</td>\n",
       "    </tr>\n",
       "    <tr>\n",
       "      <th>3</th>\n",
       "      <td>3</td>\n",
       "      <td>h</td>\n",
       "      <td>PI</td>\n",
       "      <td>2.5</td>\n",
       "    </tr>\n",
       "    <tr>\n",
       "      <th>4</th>\n",
       "      <td>4</td>\n",
       "      <td>h</td>\n",
       "      <td>VB</td>\n",
       "      <td>2.5</td>\n",
       "    </tr>\n",
       "    <tr>\n",
       "      <th>...</th>\n",
       "      <td>...</td>\n",
       "      <td>...</td>\n",
       "      <td>...</td>\n",
       "      <td>...</td>\n",
       "    </tr>\n",
       "    <tr>\n",
       "      <th>13201</th>\n",
       "      <td>4</td>\n",
       "      <td>h</td>\n",
       "      <td>S</td>\n",
       "      <td>16.7</td>\n",
       "    </tr>\n",
       "    <tr>\n",
       "      <th>13202</th>\n",
       "      <td>3</td>\n",
       "      <td>h</td>\n",
       "      <td>SP</td>\n",
       "      <td>6.8</td>\n",
       "    </tr>\n",
       "    <tr>\n",
       "      <th>13203</th>\n",
       "      <td>3</td>\n",
       "      <td>h</td>\n",
       "      <td>S</td>\n",
       "      <td>6.8</td>\n",
       "    </tr>\n",
       "    <tr>\n",
       "      <th>13204</th>\n",
       "      <td>4</td>\n",
       "      <td>h</td>\n",
       "      <td>PI</td>\n",
       "      <td>6.8</td>\n",
       "    </tr>\n",
       "    <tr>\n",
       "      <th>13205</th>\n",
       "      <td>4</td>\n",
       "      <td>h</td>\n",
       "      <td>SP</td>\n",
       "      <td>6.3</td>\n",
       "    </tr>\n",
       "  </tbody>\n",
       "</table>\n",
       "<p>13206 rows × 4 columns</p>\n",
       "</div>"
      ],
      "text/plain": [
       "       housing_room_count housing_type housing_selling_method  \\\n",
       "0                       2            h                      S   \n",
       "1                       2            h                      S   \n",
       "2                       3            h                     SP   \n",
       "3                       3            h                     PI   \n",
       "4                       4            h                     VB   \n",
       "...                   ...          ...                    ...   \n",
       "13201                   4            h                      S   \n",
       "13202                   3            h                     SP   \n",
       "13203                   3            h                      S   \n",
       "13204                   4            h                     PI   \n",
       "13205                   4            h                     SP   \n",
       "\n",
       "       housing_cbd_distance  \n",
       "0                       2.5  \n",
       "1                       2.5  \n",
       "2                       2.5  \n",
       "3                       2.5  \n",
       "4                       2.5  \n",
       "...                     ...  \n",
       "13201                  16.7  \n",
       "13202                   6.8  \n",
       "13203                   6.8  \n",
       "13204                   6.8  \n",
       "13205                   6.3  \n",
       "\n",
       "[13206 rows x 4 columns]"
      ]
     },
     "execution_count": 79,
     "metadata": {},
     "output_type": "execute_result"
    }
   ],
   "source": [
    "X"
   ]
  },
  {
   "cell_type": "code",
   "execution_count": 80,
   "metadata": {},
   "outputs": [
    {
     "data": {
      "text/plain": [
       "0        1\n",
       "1        1\n",
       "2        1\n",
       "3        0\n",
       "4        1\n",
       "        ..\n",
       "13201    1\n",
       "13202    1\n",
       "13203    1\n",
       "13204    1\n",
       "13205    1\n",
       "Name: label, Length: 13206, dtype: int64"
      ]
     },
     "execution_count": 80,
     "metadata": {},
     "output_type": "execute_result"
    }
   ],
   "source": [
    "y"
   ]
  },
  {
   "cell_type": "code",
   "execution_count": 81,
   "metadata": {},
   "outputs": [],
   "source": [
    "from sklearn.model_selection import train_test_split\n",
    "\n",
    "X_train, X_test, y_train, y_test = train_test_split(X, y, test_size=0.2, random_state=0)"
   ]
  },
  {
   "cell_type": "code",
   "execution_count": 82,
   "metadata": {},
   "outputs": [
    {
     "data": {
      "text/plain": [
       "ColumnTransformer(transformers=[('categ', OneHotEncoder(),\n",
       "                                 ['housing_type', 'housing_selling_method']),\n",
       "                                ('scale', StandardScaler(),\n",
       "                                 ['housing_room_count',\n",
       "                                  'housing_cbd_distance']),\n",
       "                                ('poly', PolynomialFeatures(),\n",
       "                                 ['housing_room_count',\n",
       "                                  'housing_cbd_distance'])])"
      ]
     },
     "execution_count": 82,
     "metadata": {},
     "output_type": "execute_result"
    }
   ],
   "source": [
    "from sklearn.pipeline import Pipeline\n",
    "from sklearn.compose import ColumnTransformer\n",
    "from sklearn.decomposition import PCA\n",
    "from sklearn.preprocessing import OneHotEncoder\n",
    "\n",
    "col_transformer = ColumnTransformer([\n",
    "    (\"categ\", OneHotEncoder(), [\"housing_type\", \"housing_selling_method\"]),\n",
    "    (\"scale\", StandardScaler(), [\"housing_room_count\", \"housing_cbd_distance\"]),\n",
    "    (\"poly\", PolynomialFeatures(2), [\"housing_room_count\", \"housing_cbd_distance\"])\n",
    "])\n",
    "\n",
    "col_transformer.fit(X_train)"
   ]
  },
  {
   "cell_type": "code",
   "execution_count": 83,
   "metadata": {},
   "outputs": [
    {
     "data": {
      "text/html": [
       "<div>\n",
       "<style scoped>\n",
       "    .dataframe tbody tr th:only-of-type {\n",
       "        vertical-align: middle;\n",
       "    }\n",
       "\n",
       "    .dataframe tbody tr th {\n",
       "        vertical-align: top;\n",
       "    }\n",
       "\n",
       "    .dataframe thead th {\n",
       "        text-align: right;\n",
       "    }\n",
       "</style>\n",
       "<table border=\"1\" class=\"dataframe\">\n",
       "  <thead>\n",
       "    <tr style=\"text-align: right;\">\n",
       "      <th></th>\n",
       "      <th>housing_room_count</th>\n",
       "      <th>housing_type</th>\n",
       "      <th>housing_selling_method</th>\n",
       "      <th>housing_cbd_distance</th>\n",
       "    </tr>\n",
       "  </thead>\n",
       "  <tbody>\n",
       "    <tr>\n",
       "      <th>9251</th>\n",
       "      <td>2</td>\n",
       "      <td>u</td>\n",
       "      <td>S</td>\n",
       "      <td>7.5</td>\n",
       "    </tr>\n",
       "    <tr>\n",
       "      <th>10300</th>\n",
       "      <td>3</td>\n",
       "      <td>h</td>\n",
       "      <td>S</td>\n",
       "      <td>12.1</td>\n",
       "    </tr>\n",
       "    <tr>\n",
       "      <th>12415</th>\n",
       "      <td>2</td>\n",
       "      <td>h</td>\n",
       "      <td>PI</td>\n",
       "      <td>7.3</td>\n",
       "    </tr>\n",
       "    <tr>\n",
       "      <th>3043</th>\n",
       "      <td>2</td>\n",
       "      <td>u</td>\n",
       "      <td>PI</td>\n",
       "      <td>4.6</td>\n",
       "    </tr>\n",
       "    <tr>\n",
       "      <th>4589</th>\n",
       "      <td>2</td>\n",
       "      <td>h</td>\n",
       "      <td>PI</td>\n",
       "      <td>3.8</td>\n",
       "    </tr>\n",
       "    <tr>\n",
       "      <th>...</th>\n",
       "      <td>...</td>\n",
       "      <td>...</td>\n",
       "      <td>...</td>\n",
       "      <td>...</td>\n",
       "    </tr>\n",
       "    <tr>\n",
       "      <th>13123</th>\n",
       "      <td>2</td>\n",
       "      <td>u</td>\n",
       "      <td>S</td>\n",
       "      <td>6.2</td>\n",
       "    </tr>\n",
       "    <tr>\n",
       "      <th>3264</th>\n",
       "      <td>4</td>\n",
       "      <td>h</td>\n",
       "      <td>S</td>\n",
       "      <td>7.9</td>\n",
       "    </tr>\n",
       "    <tr>\n",
       "      <th>9845</th>\n",
       "      <td>3</td>\n",
       "      <td>t</td>\n",
       "      <td>S</td>\n",
       "      <td>13.8</td>\n",
       "    </tr>\n",
       "    <tr>\n",
       "      <th>10799</th>\n",
       "      <td>4</td>\n",
       "      <td>h</td>\n",
       "      <td>S</td>\n",
       "      <td>31.7</td>\n",
       "    </tr>\n",
       "    <tr>\n",
       "      <th>2732</th>\n",
       "      <td>4</td>\n",
       "      <td>h</td>\n",
       "      <td>S</td>\n",
       "      <td>9.2</td>\n",
       "    </tr>\n",
       "  </tbody>\n",
       "</table>\n",
       "<p>10564 rows × 4 columns</p>\n",
       "</div>"
      ],
      "text/plain": [
       "       housing_room_count housing_type housing_selling_method  \\\n",
       "9251                    2            u                      S   \n",
       "10300                   3            h                      S   \n",
       "12415                   2            h                     PI   \n",
       "3043                    2            u                     PI   \n",
       "4589                    2            h                     PI   \n",
       "...                   ...          ...                    ...   \n",
       "13123                   2            u                      S   \n",
       "3264                    4            h                      S   \n",
       "9845                    3            t                      S   \n",
       "10799                   4            h                      S   \n",
       "2732                    4            h                      S   \n",
       "\n",
       "       housing_cbd_distance  \n",
       "9251                    7.5  \n",
       "10300                  12.1  \n",
       "12415                   7.3  \n",
       "3043                    4.6  \n",
       "4589                    3.8  \n",
       "...                     ...  \n",
       "13123                   6.2  \n",
       "3264                    7.9  \n",
       "9845                   13.8  \n",
       "10799                  31.7  \n",
       "2732                    9.2  \n",
       "\n",
       "[10564 rows x 4 columns]"
      ]
     },
     "execution_count": 83,
     "metadata": {},
     "output_type": "execute_result"
    }
   ],
   "source": [
    "X_train"
   ]
  },
  {
   "cell_type": "code",
   "execution_count": 84,
   "metadata": {},
   "outputs": [
    {
     "data": {
      "text/plain": [
       "array([[0.00000e+00, 0.00000e+00, 1.00000e+00, ..., 4.00000e+00,\n",
       "        1.50000e+01, 5.62500e+01],\n",
       "       [1.00000e+00, 0.00000e+00, 0.00000e+00, ..., 9.00000e+00,\n",
       "        3.63000e+01, 1.46410e+02],\n",
       "       [1.00000e+00, 0.00000e+00, 0.00000e+00, ..., 4.00000e+00,\n",
       "        1.46000e+01, 5.32900e+01],\n",
       "       ...,\n",
       "       [0.00000e+00, 1.00000e+00, 0.00000e+00, ..., 9.00000e+00,\n",
       "        4.14000e+01, 1.90440e+02],\n",
       "       [1.00000e+00, 0.00000e+00, 0.00000e+00, ..., 1.60000e+01,\n",
       "        1.26800e+02, 1.00489e+03],\n",
       "       [1.00000e+00, 0.00000e+00, 0.00000e+00, ..., 1.60000e+01,\n",
       "        3.68000e+01, 8.46400e+01]])"
      ]
     },
     "execution_count": 84,
     "metadata": {},
     "output_type": "execute_result"
    }
   ],
   "source": [
    "col_transformer.transform(X_train)\n"
   ]
  },
  {
   "cell_type": "code",
   "execution_count": 86,
   "metadata": {},
   "outputs": [],
   "source": [
    "from sklearn.base import BaseEstimator\n",
    "import pandas as pd\n",
    "from random import random\n",
    "\n",
    "class RandomClassifier(BaseEstimator):\n",
    "    def fit(self, X, y):\n",
    "        # Your code for fitting\n",
    "        return self\n",
    "\n",
    "    def predict(self, X):\n",
    "        y_pred = [random() > 0.5 for _ in range(len(X))]\n",
    "        y_pred = pd.Series(y_pred)\n",
    "        return y_pred.astype(int)"
   ]
  },
  {
   "cell_type": "code",
   "execution_count": 87,
   "metadata": {},
   "outputs": [],
   "source": [
    "random_clf = RandomClassifier()"
   ]
  },
  {
   "cell_type": "code",
   "execution_count": 88,
   "metadata": {},
   "outputs": [
    {
     "data": {
      "text/plain": [
       "Pipeline(steps=[('preprocessor',\n",
       "                 ColumnTransformer(transformers=[('categ', OneHotEncoder(),\n",
       "                                                  ['housing_type',\n",
       "                                                   'housing_selling_method']),\n",
       "                                                 ('scale', StandardScaler(),\n",
       "                                                  ['housing_room_count',\n",
       "                                                   'housing_cbd_distance']),\n",
       "                                                 ('poly', PolynomialFeatures(),\n",
       "                                                  ['housing_room_count',\n",
       "                                                   'housing_cbd_distance'])])),\n",
       "                ('pca', PCA(n_components=3)),\n",
       "                ('classifier', LogisticRegression())])"
      ]
     },
     "execution_count": 88,
     "metadata": {},
     "output_type": "execute_result"
    }
   ],
   "source": [
    "from sklearn.linear_model import LogisticRegression\n",
    "\n",
    "pipe = Pipeline([\n",
    "    (\"preprocessor\", col_transformer),\n",
    "    (\"pca\", PCA(n_components=3)),\n",
    "    (\"classifier\", LogisticRegression()),\n",
    "    #(\"classifier\", RandomClassifier())\n",
    "])\n",
    "pipe"
   ]
  },
  {
   "cell_type": "code",
   "execution_count": 89,
   "metadata": {},
   "outputs": [
    {
     "data": {
      "text/plain": [
       "Pipeline(steps=[('preprocessor',\n",
       "                 ColumnTransformer(transformers=[('categ', OneHotEncoder(),\n",
       "                                                  ['housing_type',\n",
       "                                                   'housing_selling_method']),\n",
       "                                                 ('scale', StandardScaler(),\n",
       "                                                  ['housing_room_count',\n",
       "                                                   'housing_cbd_distance']),\n",
       "                                                 ('poly', PolynomialFeatures(),\n",
       "                                                  ['housing_room_count',\n",
       "                                                   'housing_cbd_distance'])])),\n",
       "                ('pca', PCA(n_components=3)),\n",
       "                ('classifier', LogisticRegression())])"
      ]
     },
     "execution_count": 89,
     "metadata": {},
     "output_type": "execute_result"
    }
   ],
   "source": [
    "pipe.fit(X_train, y_train)"
   ]
  },
  {
   "cell_type": "code",
   "execution_count": 90,
   "metadata": {},
   "outputs": [],
   "source": [
    "y_pred = pipe.predict(X_test)"
   ]
  },
  {
   "cell_type": "code",
   "execution_count": 91,
   "metadata": {},
   "outputs": [
    {
     "name": "stdout",
     "output_type": "stream",
     "text": [
      "              precision    recall  f1-score   support\n",
      "\n",
      "           0       0.74      0.85      0.79      1558\n",
      "           1       0.73      0.56      0.63      1084\n",
      "\n",
      "    accuracy                           0.73      2642\n",
      "   macro avg       0.73      0.71      0.71      2642\n",
      "weighted avg       0.73      0.73      0.73      2642\n",
      "\n"
     ]
    }
   ],
   "source": [
    "from sklearn.metrics import classification_report\n",
    "print(classification_report(y_test, y_pred))"
   ]
  },
  {
   "cell_type": "markdown",
   "metadata": {},
   "source": [
    "## GridSearchCV and Pipelines"
   ]
  },
  {
   "cell_type": "code",
   "execution_count": 92,
   "metadata": {},
   "outputs": [],
   "source": [
    "from sklearn.model_selection import GridSearchCV\n",
    "\n",
    "parameters = {\n",
    "    \"classifier__C\": [1, 0.1],\n",
    "    \"classifier__penalty\": [\"l1\", \"l2\"],\n",
    "    \"pca__n_components\": [4, 5, 6]\n",
    "}\n",
    "\n",
    "grid = GridSearchCV(estimator=pipe, param_grid=parameters)"
   ]
  },
  {
   "cell_type": "code",
   "execution_count": 93,
   "metadata": {},
   "outputs": [
    {
     "data": {
      "text/plain": [
       "housing_room_count        0\n",
       "housing_type              0\n",
       "housing_selling_method    0\n",
       "housing_cbd_distance      0\n",
       "dtype: int64"
      ]
     },
     "execution_count": 93,
     "metadata": {},
     "output_type": "execute_result"
    }
   ],
   "source": [
    "X_train.isna().sum()"
   ]
  },
  {
   "cell_type": "code",
   "execution_count": 94,
   "metadata": {},
   "outputs": [
    {
     "name": "stderr",
     "output_type": "stream",
     "text": [
      "/user/nocampo/home/miniconda3/envs/phd-corpora/lib/python3.9/site-packages/sklearn/linear_model/_logistic.py:814: ConvergenceWarning: lbfgs failed to converge (status=1):\n",
      "STOP: TOTAL NO. of ITERATIONS REACHED LIMIT.\n",
      "\n",
      "Increase the number of iterations (max_iter) or scale the data as shown in:\n",
      "    https://scikit-learn.org/stable/modules/preprocessing.html\n",
      "Please also refer to the documentation for alternative solver options:\n",
      "    https://scikit-learn.org/stable/modules/linear_model.html#logistic-regression\n",
      "  n_iter_i = _check_optimize_result(\n",
      "/user/nocampo/home/miniconda3/envs/phd-corpora/lib/python3.9/site-packages/sklearn/model_selection/_validation.py:372: FitFailedWarning: \n",
      "30 fits failed out of a total of 60.\n",
      "The score on these train-test partitions for these parameters will be set to nan.\n",
      "If these failures are not expected, you can try to debug them by setting error_score='raise'.\n",
      "\n",
      "Below are more details about the failures:\n",
      "--------------------------------------------------------------------------------\n",
      "30 fits failed with the following error:\n",
      "Traceback (most recent call last):\n",
      "  File \"/user/nocampo/home/miniconda3/envs/phd-corpora/lib/python3.9/site-packages/sklearn/model_selection/_validation.py\", line 680, in _fit_and_score\n",
      "    estimator.fit(X_train, y_train, **fit_params)\n",
      "  File \"/user/nocampo/home/miniconda3/envs/phd-corpora/lib/python3.9/site-packages/sklearn/pipeline.py\", line 394, in fit\n",
      "    self._final_estimator.fit(Xt, y, **fit_params_last_step)\n",
      "  File \"/user/nocampo/home/miniconda3/envs/phd-corpora/lib/python3.9/site-packages/sklearn/linear_model/_logistic.py\", line 1461, in fit\n",
      "    solver = _check_solver(self.solver, self.penalty, self.dual)\n",
      "  File \"/user/nocampo/home/miniconda3/envs/phd-corpora/lib/python3.9/site-packages/sklearn/linear_model/_logistic.py\", line 447, in _check_solver\n",
      "    raise ValueError(\n",
      "ValueError: Solver lbfgs supports only 'l2' or 'none' penalties, got l1 penalty.\n",
      "\n",
      "  warnings.warn(some_fits_failed_message, FitFailedWarning)\n",
      "/user/nocampo/home/miniconda3/envs/phd-corpora/lib/python3.9/site-packages/sklearn/model_selection/_search.py:969: UserWarning: One or more of the test scores are non-finite: [       nan        nan        nan 0.7343802  0.74791667 0.75956058\n",
      "        nan        nan        nan 0.73419089 0.74791676 0.76003385]\n",
      "  warnings.warn(\n"
     ]
    },
    {
     "data": {
      "text/plain": [
       "GridSearchCV(estimator=Pipeline(steps=[('preprocessor',\n",
       "                                        ColumnTransformer(transformers=[('categ',\n",
       "                                                                         OneHotEncoder(),\n",
       "                                                                         ['housing_type',\n",
       "                                                                          'housing_selling_method']),\n",
       "                                                                        ('scale',\n",
       "                                                                         StandardScaler(),\n",
       "                                                                         ['housing_room_count',\n",
       "                                                                          'housing_cbd_distance']),\n",
       "                                                                        ('poly',\n",
       "                                                                         PolynomialFeatures(),\n",
       "                                                                         ['housing_room_count',\n",
       "                                                                          'housing_cbd_distance'])])),\n",
       "                                       ('pca', PCA(n_components=3)),\n",
       "                                       ('classifier', LogisticRegression())]),\n",
       "             param_grid={'classifier__C': [1, 0.1],\n",
       "                         'classifier__penalty': ['l1', 'l2'],\n",
       "                         'pca__n_components': [4, 5, 6]})"
      ]
     },
     "execution_count": 94,
     "metadata": {},
     "output_type": "execute_result"
    }
   ],
   "source": [
    "grid.fit(X_train, y_train)"
   ]
  },
  {
   "cell_type": "code",
   "execution_count": 95,
   "metadata": {},
   "outputs": [],
   "source": [
    "y_test = grid.best_estimator_.predict(X_test)"
   ]
  },
  {
   "cell_type": "code",
   "execution_count": 96,
   "metadata": {},
   "outputs": [
    {
     "data": {
      "text/plain": [
       "{'classifier__C': 0.1, 'classifier__penalty': 'l2', 'pca__n_components': 6}"
      ]
     },
     "execution_count": 96,
     "metadata": {},
     "output_type": "execute_result"
    }
   ],
   "source": [
    "grid.best_params_"
   ]
  },
  {
   "cell_type": "code",
   "execution_count": 97,
   "metadata": {},
   "outputs": [
    {
     "data": {
      "text/plain": [
       "array([[-2.09897778e+01,  3.08432236e+00, -1.67450626e+00,\n",
       "        -2.56415076e-01, -5.52094644e-01, -4.87408614e-02],\n",
       "       [-1.32937215e+01, -8.88825198e+00, -2.73579212e+00,\n",
       "        -1.19335560e+00,  2.82206569e-01, -9.98770684e-01],\n",
       "       [-6.06407805e+01,  1.33938022e+00, -4.38302947e-01,\n",
       "        -3.39008723e-02,  1.77586794e-01, -7.70924715e-01],\n",
       "       ...,\n",
       "       [-9.68888440e+00,  3.00749123e+01,  4.80499518e+00,\n",
       "        -6.19959357e-01, -1.50273463e-03,  5.93498922e-01],\n",
       "       [-7.90580765e+01,  4.10239258e-02,  3.49587650e-01,\n",
       "         7.48677143e-02, -6.24754256e-01, -7.44208386e-02],\n",
       "       [-2.20111239e+01,  1.55484334e+01,  1.05179159e+00,\n",
       "        -1.76479784e-01, -3.56204864e-01,  1.94872592e-01]])"
      ]
     },
     "execution_count": 97,
     "metadata": {},
     "output_type": "execute_result"
    }
   ],
   "source": [
    "grid.best_estimator_[0:2].transform(X_test)"
   ]
  },
  {
   "cell_type": "code",
   "execution_count": 98,
   "metadata": {},
   "outputs": [
    {
     "name": "stdout",
     "output_type": "stream",
     "text": [
      "              precision    recall  f1-score   support\n",
      "\n",
      "           0       0.83      0.94      0.88      1587\n",
      "           1       0.88      0.71      0.79      1055\n",
      "\n",
      "    accuracy                           0.85      2642\n",
      "   macro avg       0.86      0.82      0.83      2642\n",
      "weighted avg       0.85      0.85      0.84      2642\n",
      "\n"
     ]
    }
   ],
   "source": [
    "from sklearn.metrics import classification_report\n",
    "print(classification_report(y_test, y_pred))"
   ]
  },
  {
   "cell_type": "code",
   "execution_count": null,
   "metadata": {},
   "outputs": [],
   "source": []
  }
 ],
 "metadata": {
  "interpreter": {
   "hash": "9a261fe3232d26f5c8a3b17afd155c889a6f52aad30d4dff29769029555a05e9"
  },
  "kernelspec": {
   "display_name": "Python 3.9.7 ('phd-corpora')",
   "language": "python",
   "name": "python3"
  },
  "language_info": {
   "codemirror_mode": {
    "name": "ipython",
    "version": 3
   },
   "file_extension": ".py",
   "mimetype": "text/x-python",
   "name": "python",
   "nbconvert_exporter": "python",
   "pygments_lexer": "ipython3",
   "version": "3.9.7"
  },
  "orig_nbformat": 4
 },
 "nbformat": 4,
 "nbformat_minor": 2
}
